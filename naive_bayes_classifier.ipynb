{
 "nbformat": 4,
 "nbformat_minor": 0,
 "metadata": {
  "colab": {
   "provenance": [],
   "collapsed_sections": []
  },
  "kernelspec": {
   "name": "python3",
   "display_name": "Python 3"
  },
  "language_info": {
   "name": "python"
  }
 },
 "cells": [
  {
   "cell_type": "code",
   "execution_count": 1,
   "outputs": [],
   "source": [
    "# do imports\n",
    "import nltk\n",
    "import numpy as np\n",
    "import pandas as pd\n",
    "import preprocessing\n",
    "import seaborn as sns\n",
    "\n",
    "from sklearn.model_selection import train_test_split"
   ],
   "metadata": {
    "collapsed": false
   }
  },
  {
   "cell_type": "code",
   "execution_count": 2,
   "outputs": [
    {
     "data": {
      "text/plain": "       score                                               text\n0        4.0  This is only for Julie Strain fans. It's a col...\n1        5.0  I don't care much for Dr. Seuss but after read...\n2        5.0  If people become the books they read and if \"t...\n3        4.0  Theodore Seuss Geisel (1904-1991), aka &quot;D...\n4        4.0  Philip Nel - Dr. Seuss: American IconThis is b...\n...      ...                                                ...\n49995    1.0  I'd love to read the book but I'm not paying $...\n49996    2.0  I have to admit, I usually do not like histori...\n49997    5.0  Yay! I have never read this book, but I'm read...\n49998    2.0  I had been wanting to read this book for a lon...\n49999    5.0  I am a historical fiction fan who has read cou...\n\n[50000 rows x 2 columns]",
      "text/html": "<div>\n<style scoped>\n    .dataframe tbody tr th:only-of-type {\n        vertical-align: middle;\n    }\n\n    .dataframe tbody tr th {\n        vertical-align: top;\n    }\n\n    .dataframe thead th {\n        text-align: right;\n    }\n</style>\n<table border=\"1\" class=\"dataframe\">\n  <thead>\n    <tr style=\"text-align: right;\">\n      <th></th>\n      <th>score</th>\n      <th>text</th>\n    </tr>\n  </thead>\n  <tbody>\n    <tr>\n      <th>0</th>\n      <td>4.0</td>\n      <td>This is only for Julie Strain fans. It's a col...</td>\n    </tr>\n    <tr>\n      <th>1</th>\n      <td>5.0</td>\n      <td>I don't care much for Dr. Seuss but after read...</td>\n    </tr>\n    <tr>\n      <th>2</th>\n      <td>5.0</td>\n      <td>If people become the books they read and if \"t...</td>\n    </tr>\n    <tr>\n      <th>3</th>\n      <td>4.0</td>\n      <td>Theodore Seuss Geisel (1904-1991), aka &amp;quot;D...</td>\n    </tr>\n    <tr>\n      <th>4</th>\n      <td>4.0</td>\n      <td>Philip Nel - Dr. Seuss: American IconThis is b...</td>\n    </tr>\n    <tr>\n      <th>...</th>\n      <td>...</td>\n      <td>...</td>\n    </tr>\n    <tr>\n      <th>49995</th>\n      <td>1.0</td>\n      <td>I'd love to read the book but I'm not paying $...</td>\n    </tr>\n    <tr>\n      <th>49996</th>\n      <td>2.0</td>\n      <td>I have to admit, I usually do not like histori...</td>\n    </tr>\n    <tr>\n      <th>49997</th>\n      <td>5.0</td>\n      <td>Yay! I have never read this book, but I'm read...</td>\n    </tr>\n    <tr>\n      <th>49998</th>\n      <td>2.0</td>\n      <td>I had been wanting to read this book for a lon...</td>\n    </tr>\n    <tr>\n      <th>49999</th>\n      <td>5.0</td>\n      <td>I am a historical fiction fan who has read cou...</td>\n    </tr>\n  </tbody>\n</table>\n<p>50000 rows × 2 columns</p>\n</div>"
     },
     "execution_count": 2,
     "metadata": {},
     "output_type": "execute_result"
    }
   ],
   "source": [
    "books_data = preprocessing.load_books_rating_data(50000)\n",
    "books_data"
   ],
   "metadata": {
    "collapsed": false
   }
  },
  {
   "cell_type": "code",
   "execution_count": 4,
   "outputs": [
    {
     "data": {
      "text/plain": "<AxesSubplot: xlabel='score', ylabel='count'>"
     },
     "execution_count": 4,
     "metadata": {},
     "output_type": "execute_result"
    },
    {
     "data": {
      "text/plain": "<Figure size 432x288 with 1 Axes>",
      "image/png": "[encoded data removed]"
     },
     "metadata": {
      "needs_background": "light"
     },
     "output_type": "display_data"
    }
   ],
   "source": [
    "sns.countplot(x=\"score\", data=books_data)"
   ],
   "metadata": {
    "collapsed": false
   }
  },
  {
   "cell_type": "code",
   "execution_count": 6,
   "outputs": [],
   "source": [
    "X_balanced, y_balanced = preprocessing.under_sample(np.array(books_data.review).reshape(-1, 1), books_data.score)\n",
    "X_balanced = [sent[0] for sent in X_balanced]"
   ],
   "metadata": {
    "collapsed": false
   }
  },
  {
   "cell_type": "code",
   "execution_count": 7,
   "outputs": [
    {
     "data": {
      "text/plain": "<AxesSubplot: xlabel='score', ylabel='count'>"
     },
     "execution_count": 7,
     "metadata": {},
     "output_type": "execute_result"
    },
    {
     "data": {
      "text/plain": "<Figure size 432x288 with 1 Axes>",
      "image/png": "[encoded data removed]"
     },
     "metadata": {
      "needs_background": "light"
     },
     "output_type": "display_data"
    }
   ],
   "source": [
    "sns.countplot(x=\"score\", data=pd.DataFrame(y_balanced))"
   ],
   "metadata": {
    "collapsed": false
   }
  },
  {
   "cell_type": "code",
   "execution_count": 5,
   "outputs": [
    {
     "data": {
      "text/plain": "0    [This, is, only, for, Julie, Strain, fans, ., ...\n1    [I, do, n't, care, much, for, Dr., Seuss, but,...\n2    [If, people, become, the, books, they, read, a...\n3    [Theodore, Seuss, Geisel, (, 1904-1991, ), ,, ...\n4    [Philip, Nel, -, Dr., Seuss, :, American, Icon...\nName: text, dtype: object"
     },
     "execution_count": 5,
     "metadata": {},
     "output_type": "execute_result"
    }
   ],
   "source": [
    "# tokenize the review text\n",
    "x = preprocessing.tokenize(X_balanced)\n",
    "x.head()"
   ],
   "metadata": {
    "collapsed": false
   }
  },
  {
   "cell_type": "code",
   "execution_count": 9,
   "outputs": [],
   "source": [
    "# create our pairs of features and target for every review\n",
    "words = preprocessing.flatten(X_balanced)\n",
    "features = preprocessing.get_review_features(X_balanced, words)\n",
    "features_score_pairs = list(zip(features, y_balanced))"
   ],
   "metadata": {
    "collapsed": false
   }
  },
  {
   "cell_type": "code",
   "execution_count": 11,
   "outputs": [],
   "source": [
    "# split data into training and test\n",
    "train, test = train_test_split(features_score_pairs, train_size=0.8)"
   ],
   "metadata": {
    "collapsed": false
   }
  },
  {
   "cell_type": "code",
   "execution_count": 13,
   "outputs": [],
   "source": [
    "# train a naive bayes on the training data and test its accuracy\n",
    "naive_bayes = nltk.NaiveBayesClassifier.train(train)"
   ],
   "metadata": {
    "collapsed": false
   }
  },
  {
   "cell_type": "code",
   "execution_count": 14,
   "outputs": [
    {
     "name": "stdout",
     "output_type": "stream",
     "text": [
      "Accuracy: 39.15%\n"
     ]
    }
   ],
   "source": [
    "accuracy = nltk.classify.accuracy(naive_bayes, test)\n",
    "print(f\"Accuracy: {round(accuracy * 100, 2)}%\")"
   ],
   "metadata": {
    "collapsed": false
   }
  },
  {
   "cell_type": "code",
   "execution_count": null,
   "outputs": [],
   "source": [],
   "metadata": {
    "collapsed": false
   }
  }
 ]
}
