{
 "cells": [
  {
   "cell_type": "code",
   "execution_count": 1,
   "metadata": {
    "collapsed": true
   },
   "outputs": [
    {
     "name": "stderr",
     "output_type": "stream",
     "text": [
      "c:\\users\\yanni\\appdata\\local\\programs\\python\\python39\\lib\\site-packages\\scipy\\__init__.py:146: UserWarning: A NumPy version >=1.16.5 and <1.23.0 is required for this version of SciPy (detected version 1.23.3\n",
      "  warnings.warn(f\"A NumPy version >={np_minversion} and <{np_maxversion}\"\n"
     ]
    }
   ],
   "source": [
    "import numpy as np\n",
    "import pandas as pd\n",
    "from keras.preprocessing.text import Tokenizer\n",
    "from keras.preprocessing.sequence import pad_sequences\n",
    "from keras.models import Sequential\n",
    "from keras.layers.core import Dropout, Dense\n",
    "from keras.layers import Flatten\n",
    "from keras.layers.embeddings import Embedding\n",
    "from keras.utils import np_utils\n",
    "from sklearn.model_selection import train_test_split"
   ]
  },
  {
   "cell_type": "code",
   "execution_count": 2,
   "outputs": [
    {
     "data": {
      "text/plain": "                 Id                           Title  Price         User_id  \\\n0        1882931173  Its Only Art If Its Well Hung!    NaN   AVCGYZL8FQQTD   \n1        0826414346        Dr. Seuss: American Icon    NaN  A30TK6U7DNS82R   \n2        0826414346        Dr. Seuss: American Icon    NaN  A3UH4UZ4RSVO82   \n3        0826414346        Dr. Seuss: American Icon    NaN  A2MVUWT453QH61   \n4        0826414346        Dr. Seuss: American Icon    NaN  A22X4XUPKF66MR   \n...             ...                             ...    ...             ...   \n2999995  B000NSLVCU             The Idea of History    NaN             NaN   \n2999996  B000NSLVCU             The Idea of History    NaN  A1SMUB9ASL5L9Y   \n2999997  B000NSLVCU             The Idea of History    NaN  A2AQMEKZKK5EE4   \n2999998  B000NSLVCU             The Idea of History    NaN  A18SQGYBKS852K   \n2999999  B000NSLVCU             The Idea of History    NaN             NaN   \n\n                                profileName review/helpfulness  review/score  \\\n0                     Jim of Oz \"jim-of-oz\"                7/7           4.0   \n1                             Kevin Killian              10/10           5.0   \n2                              John Granger              10/11           5.0   \n3        Roy E. Perry \"amateur philosopher\"                7/7           4.0   \n4           D. H. Richards \"ninthwavestore\"                3/3           4.0   \n...                                     ...                ...           ...   \n2999995                                 NaN              14/19           4.0   \n2999996                             jafrank                1/1           4.0   \n2999997           L. L. Poulos \"Muslim Mom\"                0/0           4.0   \n2999998       Julia A. Klein \"knitting rat\"               1/11           5.0   \n2999999                                 NaN               7/49           1.0   \n\n         review/time                                     review/summary  \\\n0          940636800             Nice collection of Julie Strain images   \n1         1095724800                                  Really Enjoyed It   \n2         1078790400    Essential for every personal and Public Library   \n3         1090713600    Phlip Nel gives silly Seuss a serious treatment   \n4         1107993600                             Good academic overview   \n...              ...                                                ...   \n2999995    937612800                                          Difficult   \n2999996   1331683200      Quite good and ahead of its time occasionally   \n2999997   1180224000  Easier reads of those not well versed in histo...   \n2999998   1163030400   Yes, it is cheaper than the University Bookstore   \n2999999    905385600  Collingwood's ideas sink in a quagmire or verb...   \n\n                                               review/text  \n0        This is only for Julie Strain fans. It's a col...  \n1        I don't care much for Dr. Seuss but after read...  \n2        If people become the books they read and if \"t...  \n3        Theodore Seuss Geisel (1904-1991), aka &quot;D...  \n4        Philip Nel - Dr. Seuss: American IconThis is b...  \n...                                                    ...  \n2999995  This is an extremely difficult book to digest,...  \n2999996  This is pretty interesting. Collingwood seems ...  \n2999997  This is a good book but very esoteric. \"What i...  \n2999998  My daughter, a freshman at Indiana University,...  \n2999999  The guy has a few good ideas but, reader, bewa...  \n\n[3000000 rows x 10 columns]",
      "text/html": "<div>\n<style scoped>\n    .dataframe tbody tr th:only-of-type {\n        vertical-align: middle;\n    }\n\n    .dataframe tbody tr th {\n        vertical-align: top;\n    }\n\n    .dataframe thead th {\n        text-align: right;\n    }\n</style>\n<table border=\"1\" class=\"dataframe\">\n  <thead>\n    <tr style=\"text-align: right;\">\n      <th></th>\n      <th>Id</th>\n      <th>Title</th>\n      <th>Price</th>\n      <th>User_id</th>\n      <th>profileName</th>\n      <th>review/helpfulness</th>\n      <th>review/score</th>\n      <th>review/time</th>\n      <th>review/summary</th>\n      <th>review/text</th>\n    </tr>\n  </thead>\n  <tbody>\n    <tr>\n      <th>0</th>\n      <td>1882931173</td>\n      <td>Its Only Art If Its Well Hung!</td>\n      <td>NaN</td>\n      <td>AVCGYZL8FQQTD</td>\n      <td>Jim of Oz \"jim-of-oz\"</td>\n      <td>7/7</td>\n      <td>4.0</td>\n      <td>940636800</td>\n      <td>Nice collection of Julie Strain images</td>\n      <td>This is only for Julie Strain fans. It's a col...</td>\n    </tr>\n    <tr>\n      <th>1</th>\n      <td>0826414346</td>\n      <td>Dr. Seuss: American Icon</td>\n      <td>NaN</td>\n      <td>A30TK6U7DNS82R</td>\n      <td>Kevin Killian</td>\n      <td>10/10</td>\n      <td>5.0</td>\n      <td>1095724800</td>\n      <td>Really Enjoyed It</td>\n      <td>I don't care much for Dr. Seuss but after read...</td>\n    </tr>\n    <tr>\n      <th>2</th>\n      <td>0826414346</td>\n      <td>Dr. Seuss: American Icon</td>\n      <td>NaN</td>\n      <td>A3UH4UZ4RSVO82</td>\n      <td>John Granger</td>\n      <td>10/11</td>\n      <td>5.0</td>\n      <td>1078790400</td>\n      <td>Essential for every personal and Public Library</td>\n      <td>If people become the books they read and if \"t...</td>\n    </tr>\n    <tr>\n      <th>3</th>\n      <td>0826414346</td>\n      <td>Dr. Seuss: American Icon</td>\n      <td>NaN</td>\n      <td>A2MVUWT453QH61</td>\n      <td>Roy E. Perry \"amateur philosopher\"</td>\n      <td>7/7</td>\n      <td>4.0</td>\n      <td>1090713600</td>\n      <td>Phlip Nel gives silly Seuss a serious treatment</td>\n      <td>Theodore Seuss Geisel (1904-1991), aka &amp;quot;D...</td>\n    </tr>\n    <tr>\n      <th>4</th>\n      <td>0826414346</td>\n      <td>Dr. Seuss: American Icon</td>\n      <td>NaN</td>\n      <td>A22X4XUPKF66MR</td>\n      <td>D. H. Richards \"ninthwavestore\"</td>\n      <td>3/3</td>\n      <td>4.0</td>\n      <td>1107993600</td>\n      <td>Good academic overview</td>\n      <td>Philip Nel - Dr. Seuss: American IconThis is b...</td>\n    </tr>\n    <tr>\n      <th>...</th>\n      <td>...</td>\n      <td>...</td>\n      <td>...</td>\n      <td>...</td>\n      <td>...</td>\n      <td>...</td>\n      <td>...</td>\n      <td>...</td>\n      <td>...</td>\n      <td>...</td>\n    </tr>\n    <tr>\n      <th>2999995</th>\n      <td>B000NSLVCU</td>\n      <td>The Idea of History</td>\n      <td>NaN</td>\n      <td>NaN</td>\n      <td>NaN</td>\n      <td>14/19</td>\n      <td>4.0</td>\n      <td>937612800</td>\n      <td>Difficult</td>\n      <td>This is an extremely difficult book to digest,...</td>\n    </tr>\n    <tr>\n      <th>2999996</th>\n      <td>B000NSLVCU</td>\n      <td>The Idea of History</td>\n      <td>NaN</td>\n      <td>A1SMUB9ASL5L9Y</td>\n      <td>jafrank</td>\n      <td>1/1</td>\n      <td>4.0</td>\n      <td>1331683200</td>\n      <td>Quite good and ahead of its time occasionally</td>\n      <td>This is pretty interesting. Collingwood seems ...</td>\n    </tr>\n    <tr>\n      <th>2999997</th>\n      <td>B000NSLVCU</td>\n      <td>The Idea of History</td>\n      <td>NaN</td>\n      <td>A2AQMEKZKK5EE4</td>\n      <td>L. L. Poulos \"Muslim Mom\"</td>\n      <td>0/0</td>\n      <td>4.0</td>\n      <td>1180224000</td>\n      <td>Easier reads of those not well versed in histo...</td>\n      <td>This is a good book but very esoteric. \"What i...</td>\n    </tr>\n    <tr>\n      <th>2999998</th>\n      <td>B000NSLVCU</td>\n      <td>The Idea of History</td>\n      <td>NaN</td>\n      <td>A18SQGYBKS852K</td>\n      <td>Julia A. Klein \"knitting rat\"</td>\n      <td>1/11</td>\n      <td>5.0</td>\n      <td>1163030400</td>\n      <td>Yes, it is cheaper than the University Bookstore</td>\n      <td>My daughter, a freshman at Indiana University,...</td>\n    </tr>\n    <tr>\n      <th>2999999</th>\n      <td>B000NSLVCU</td>\n      <td>The Idea of History</td>\n      <td>NaN</td>\n      <td>NaN</td>\n      <td>NaN</td>\n      <td>7/49</td>\n      <td>1.0</td>\n      <td>905385600</td>\n      <td>Collingwood's ideas sink in a quagmire or verb...</td>\n      <td>The guy has a few good ideas but, reader, bewa...</td>\n    </tr>\n  </tbody>\n</table>\n<p>3000000 rows × 10 columns</p>\n</div>"
     },
     "execution_count": 2,
     "metadata": {},
     "output_type": "execute_result"
    }
   ],
   "source": [
    "books_data_raw = pd.read_csv('data/Books_rating.csv')\n",
    "books_data_raw"
   ],
   "metadata": {
    "collapsed": false
   }
  },
  {
   "cell_type": "code",
   "execution_count": 3,
   "outputs": [],
   "source": [
    "books_data = books_data_raw[['review/score', 'review/text']].copy()\n",
    "books_data.rename(columns={'review/score': 'score', 'review/text': 'text'}, inplace=True)\n",
    "\n",
    "# TODO: use more 10000\n",
    "books_data = books_data.head(10000)"
   ],
   "metadata": {
    "collapsed": false
   }
  },
  {
   "cell_type": "code",
   "execution_count": 4,
   "outputs": [
    {
     "data": {
      "text/plain": "10000"
     },
     "execution_count": 4,
     "metadata": {},
     "output_type": "execute_result"
    }
   ],
   "source": [
    "books_data = books_data.dropna()\n",
    "len(books_data)"
   ],
   "metadata": {
    "collapsed": false
   }
  },
  {
   "cell_type": "code",
   "execution_count": 5,
   "outputs": [
    {
     "data": {
      "text/plain": "0    This is only for Julie Strain fans. It's a col...\n1    I don't care much for Dr. Seuss but after read...\n2    If people become the books they read and if \"t...\n3    Theodore Seuss Geisel (1904-1991), aka &quot;D...\n4    Philip Nel - Dr. Seuss: American IconThis is b...\nName: text, dtype: object"
     },
     "execution_count": 5,
     "metadata": {},
     "output_type": "execute_result"
    }
   ],
   "source": [
    "X = books_data.text\n",
    "y = books_data.score\n",
    "X.head()"
   ],
   "metadata": {
    "collapsed": false
   }
  },
  {
   "cell_type": "code",
   "execution_count": 6,
   "outputs": [],
   "source": [
    "tokenizer = Tokenizer(num_words=5000)\n",
    "tokenizer.fit_on_texts(X)\n",
    "X = tokenizer.texts_to_sequences(X)"
   ],
   "metadata": {
    "collapsed": false
   }
  },
  {
   "cell_type": "code",
   "execution_count": 7,
   "outputs": [],
   "source": [
    "# Adding 1 because of reserved 0 index\n",
    "vocab_size = len(tokenizer.word_index) + 1\n",
    "X = pad_sequences(X, padding='post')"
   ],
   "metadata": {
    "collapsed": false
   }
  },
  {
   "cell_type": "code",
   "execution_count": 8,
   "outputs": [
    {
     "data": {
      "text/plain": "array([[0., 0., 0., 1., 0.],\n       [0., 0., 0., 0., 1.],\n       [0., 0., 0., 0., 1.],\n       [0., 0., 0., 1., 0.],\n       [0., 0., 0., 1., 0.]], dtype=float32)"
     },
     "execution_count": 8,
     "metadata": {},
     "output_type": "execute_result"
    }
   ],
   "source": [
    "# One-hot encoding\n",
    "y = np_utils.to_categorical([int(score) - 1 for score in y])\n",
    "y[:5]"
   ],
   "metadata": {
    "collapsed": false
   }
  },
  {
   "cell_type": "code",
   "execution_count": 9,
   "outputs": [],
   "source": [
    "X_train, X_test, y_train, y_test = train_test_split(X, y, test_size=0.20, random_state=42)"
   ],
   "metadata": {
    "collapsed": false
   }
  },
  {
   "cell_type": "code",
   "execution_count": 10,
   "outputs": [],
   "source": [
    "embeddings_dict = dict()\n",
    "embeddings_file = open('data/glove.6B.300d.txt', encoding=\"utf8\")\n",
    "for line in embeddings_file:\n",
    "    values = line.split()\n",
    "    word = values[0]\n",
    "    vector = np.asarray(values[1:], dtype='float32')\n",
    "    embeddings_dict[word] = vector\n",
    "embeddings_file.close()"
   ],
   "metadata": {
    "collapsed": false
   }
  },
  {
   "cell_type": "code",
   "execution_count": 12,
   "outputs": [],
   "source": [
    "embeddings_matrix = np.zeros((vocab_size, 300))\n",
    "for word, index in tokenizer.word_index.items():\n",
    "    embedding = embeddings_dict.get(word)\n",
    "    if embedding is not None:\n",
    "        embeddings_matrix[index] = embedding"
   ],
   "metadata": {
    "collapsed": false
   }
  },
  {
   "cell_type": "code",
   "execution_count": 13,
   "outputs": [
    {
     "name": "stdout",
     "output_type": "stream",
     "text": [
      "Model: \"sequential\"\n",
      "_________________________________________________________________\n",
      " Layer (type)                Output Shape              Param #   \n",
      "=================================================================\n",
      " embedding (Embedding)       (None, 2166, 300)         13560600  \n",
      "                                                                 \n",
      " flatten (Flatten)           (None, 649800)            0         \n",
      "                                                                 \n",
      " dense (Dense)               (None, 32)                20793632  \n",
      "                                                                 \n",
      " dense_1 (Dense)             (None, 32)                1056      \n",
      "                                                                 \n",
      " dense_2 (Dense)             (None, 5)                 165       \n",
      "                                                                 \n",
      "=================================================================\n",
      "Total params: 34,355,453\n",
      "Trainable params: 20,794,853\n",
      "Non-trainable params: 13,560,600\n",
      "_________________________________________________________________\n",
      "None\n"
     ]
    }
   ],
   "source": [
    "model = Sequential()\n",
    "\n",
    "embedding_layer = Embedding(\n",
    "    vocab_size,\n",
    "    300,\n",
    "    weights=[embeddings_matrix],\n",
    "    input_length=max([len(sent) for sent in X]),\n",
    "    trainable=False\n",
    ")\n",
    "model.add(embedding_layer)\n",
    "\n",
    "model.add(Flatten())\n",
    "# model.add(Dropout(0.2))\n",
    "model.add(Dense(32, activation='relu'))\n",
    "# model.add(Dropout(0.2))\n",
    "model.add(Dense(32, activation='relu'))\n",
    "model.add(Dense(5, activation='softmax'))\n",
    "\n",
    "model.compile(optimizer='adam', loss='categorical_crossentropy', metrics=['accuracy'])\n",
    "\n",
    "print(model.summary())"
   ],
   "metadata": {
    "collapsed": false
   }
  },
  {
   "cell_type": "code",
   "execution_count": 14,
   "outputs": [
    {
     "name": "stdout",
     "output_type": "stream",
     "text": [
      "Epoch 1/10\n",
      "7/7 [==============================] - 37s 4s/step - loss: 1.6874 - accuracy: 0.4530 - val_loss: 1.4798 - val_accuracy: 0.5175\n",
      "Epoch 2/10\n",
      "7/7 [==============================] - 21s 3s/step - loss: 1.2109 - accuracy: 0.5742 - val_loss: 1.3281 - val_accuracy: 0.5756\n",
      "Epoch 3/10\n",
      "7/7 [==============================] - 24s 3s/step - loss: 1.0101 - accuracy: 0.6453 - val_loss: 1.2782 - val_accuracy: 0.5650\n",
      "Epoch 4/10\n",
      "7/7 [==============================] - 18s 2s/step - loss: 0.8392 - accuracy: 0.6955 - val_loss: 1.2620 - val_accuracy: 0.5594\n",
      "Epoch 5/10\n",
      "7/7 [==============================] - 17s 2s/step - loss: 0.7123 - accuracy: 0.7416 - val_loss: 1.2802 - val_accuracy: 0.5525\n",
      "Epoch 6/10\n",
      "7/7 [==============================] - 18s 3s/step - loss: 0.5958 - accuracy: 0.8009 - val_loss: 1.2772 - val_accuracy: 0.5587\n",
      "Epoch 7/10\n",
      "7/7 [==============================] - 16s 2s/step - loss: 0.4961 - accuracy: 0.8352 - val_loss: 1.3202 - val_accuracy: 0.5556\n",
      "Epoch 8/10\n",
      "7/7 [==============================] - 15s 2s/step - loss: 0.4135 - accuracy: 0.8736 - val_loss: 1.3361 - val_accuracy: 0.5606\n",
      "Epoch 9/10\n",
      "7/7 [==============================] - 15s 2s/step - loss: 0.3416 - accuracy: 0.9067 - val_loss: 1.3722 - val_accuracy: 0.5394\n",
      "Epoch 10/10\n",
      "7/7 [==============================] - 15s 2s/step - loss: 0.2827 - accuracy: 0.9250 - val_loss: 1.4240 - val_accuracy: 0.5506\n"
     ]
    }
   ],
   "source": [
    "BATCH_SIZE = 1024\n",
    "EPOCHS = 10\n",
    "\n",
    "history = model.fit(X_train, y_train, batch_size=BATCH_SIZE, epochs=EPOCHS, verbose=1, validation_split=0.2)"
   ],
   "metadata": {
    "collapsed": false
   }
  },
  {
   "cell_type": "code",
   "execution_count": 15,
   "outputs": [
    {
     "name": "stdout",
     "output_type": "stream",
     "text": [
      "63/63 [==============================] - 4s 58ms/step - loss: 1.3574 - accuracy: 0.5585\n",
      "Test Score: 1.357380986213684\n",
      "Test Accuracy: 0.5584999918937683\n"
     ]
    }
   ],
   "source": [
    "score = model.evaluate(X_test, y_test, verbose=1)\n",
    "print(\"Test Score:\", score[0])\n",
    "print(\"Test Accuracy:\", score[1])"
   ],
   "metadata": {
    "collapsed": false
   }
  },
  {
   "cell_type": "code",
   "execution_count": null,
   "outputs": [],
   "source": [],
   "metadata": {
    "collapsed": false
   }
  }
 ],
 "metadata": {
  "kernelspec": {
   "display_name": "Python 3",
   "language": "python",
   "name": "python3"
  },
  "language_info": {
   "codemirror_mode": {
    "name": "ipython",
    "version": 2
   },
   "file_extension": ".py",
   "mimetype": "text/x-python",
   "name": "python",
   "nbconvert_exporter": "python",
   "pygments_lexer": "ipython2",
   "version": "2.7.6"
  }
 },
 "nbformat": 4,
 "nbformat_minor": 0
}
