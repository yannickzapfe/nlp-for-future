{
 "cells": [
  {
   "cell_type": "code",
   "execution_count": 1,
   "outputs": [],
   "source": [
    "import numpy as np\n",
    "import pandas as pd\n",
    "import seaborn as sns\n",
    "\n",
    "from imblearn.under_sampling import RandomUnderSampler\n",
    "from keras.preprocessing.text import Tokenizer\n",
    "from keras.preprocessing.sequence import pad_sequences\n",
    "from keras.models import Sequential\n",
    "from keras.layers.core import Dropout, Dense\n",
    "from keras.layers import Flatten\n",
    "from keras.layers.embeddings import Embedding\n",
    "from keras.utils import np_utils\n",
    "from sklearn.model_selection import train_test_split"
   ],
   "metadata": {
    "collapsed": false
   }
  },
  {
   "cell_type": "code",
   "execution_count": 2,
   "outputs": [
    {
     "data": {
      "text/plain": "                 Id                           Title  Price         User_id  \\\n0        1882931173  Its Only Art If Its Well Hung!    NaN   AVCGYZL8FQQTD   \n1        0826414346        Dr. Seuss: American Icon    NaN  A30TK6U7DNS82R   \n2        0826414346        Dr. Seuss: American Icon    NaN  A3UH4UZ4RSVO82   \n3        0826414346        Dr. Seuss: American Icon    NaN  A2MVUWT453QH61   \n4        0826414346        Dr. Seuss: American Icon    NaN  A22X4XUPKF66MR   \n...             ...                             ...    ...             ...   \n2999995  B000NSLVCU             The Idea of History    NaN             NaN   \n2999996  B000NSLVCU             The Idea of History    NaN  A1SMUB9ASL5L9Y   \n2999997  B000NSLVCU             The Idea of History    NaN  A2AQMEKZKK5EE4   \n2999998  B000NSLVCU             The Idea of History    NaN  A18SQGYBKS852K   \n2999999  B000NSLVCU             The Idea of History    NaN             NaN   \n\n                                profileName review/helpfulness  review/score  \\\n0                     Jim of Oz \"jim-of-oz\"                7/7           4.0   \n1                             Kevin Killian              10/10           5.0   \n2                              John Granger              10/11           5.0   \n3        Roy E. Perry \"amateur philosopher\"                7/7           4.0   \n4           D. H. Richards \"ninthwavestore\"                3/3           4.0   \n...                                     ...                ...           ...   \n2999995                                 NaN              14/19           4.0   \n2999996                             jafrank                1/1           4.0   \n2999997           L. L. Poulos \"Muslim Mom\"                0/0           4.0   \n2999998       Julia A. Klein \"knitting rat\"               1/11           5.0   \n2999999                                 NaN               7/49           1.0   \n\n         review/time                                     review/summary  \\\n0          940636800             Nice collection of Julie Strain images   \n1         1095724800                                  Really Enjoyed It   \n2         1078790400    Essential for every personal and Public Library   \n3         1090713600    Phlip Nel gives silly Seuss a serious treatment   \n4         1107993600                             Good academic overview   \n...              ...                                                ...   \n2999995    937612800                                          Difficult   \n2999996   1331683200      Quite good and ahead of its time occasionally   \n2999997   1180224000  Easier reads of those not well versed in histo...   \n2999998   1163030400   Yes, it is cheaper than the University Bookstore   \n2999999    905385600  Collingwood's ideas sink in a quagmire or verb...   \n\n                                               review/text  \n0        This is only for Julie Strain fans. It's a col...  \n1        I don't care much for Dr. Seuss but after read...  \n2        If people become the books they read and if \"t...  \n3        Theodore Seuss Geisel (1904-1991), aka &quot;D...  \n4        Philip Nel - Dr. Seuss: American IconThis is b...  \n...                                                    ...  \n2999995  This is an extremely difficult book to digest,...  \n2999996  This is pretty interesting. Collingwood seems ...  \n2999997  This is a good book but very esoteric. \"What i...  \n2999998  My daughter, a freshman at Indiana University,...  \n2999999  The guy has a few good ideas but, reader, bewa...  \n\n[3000000 rows x 10 columns]",
      "text/html": "<div>\n<style scoped>\n    .dataframe tbody tr th:only-of-type {\n        vertical-align: middle;\n    }\n\n    .dataframe tbody tr th {\n        vertical-align: top;\n    }\n\n    .dataframe thead th {\n        text-align: right;\n    }\n</style>\n<table border=\"1\" class=\"dataframe\">\n  <thead>\n    <tr style=\"text-align: right;\">\n      <th></th>\n      <th>Id</th>\n      <th>Title</th>\n      <th>Price</th>\n      <th>User_id</th>\n      <th>profileName</th>\n      <th>review/helpfulness</th>\n      <th>review/score</th>\n      <th>review/time</th>\n      <th>review/summary</th>\n      <th>review/text</th>\n    </tr>\n  </thead>\n  <tbody>\n    <tr>\n      <th>0</th>\n      <td>1882931173</td>\n      <td>Its Only Art If Its Well Hung!</td>\n      <td>NaN</td>\n      <td>AVCGYZL8FQQTD</td>\n      <td>Jim of Oz \"jim-of-oz\"</td>\n      <td>7/7</td>\n      <td>4.0</td>\n      <td>940636800</td>\n      <td>Nice collection of Julie Strain images</td>\n      <td>This is only for Julie Strain fans. It's a col...</td>\n    </tr>\n    <tr>\n      <th>1</th>\n      <td>0826414346</td>\n      <td>Dr. Seuss: American Icon</td>\n      <td>NaN</td>\n      <td>A30TK6U7DNS82R</td>\n      <td>Kevin Killian</td>\n      <td>10/10</td>\n      <td>5.0</td>\n      <td>1095724800</td>\n      <td>Really Enjoyed It</td>\n      <td>I don't care much for Dr. Seuss but after read...</td>\n    </tr>\n    <tr>\n      <th>2</th>\n      <td>0826414346</td>\n      <td>Dr. Seuss: American Icon</td>\n      <td>NaN</td>\n      <td>A3UH4UZ4RSVO82</td>\n      <td>John Granger</td>\n      <td>10/11</td>\n      <td>5.0</td>\n      <td>1078790400</td>\n      <td>Essential for every personal and Public Library</td>\n      <td>If people become the books they read and if \"t...</td>\n    </tr>\n    <tr>\n      <th>3</th>\n      <td>0826414346</td>\n      <td>Dr. Seuss: American Icon</td>\n      <td>NaN</td>\n      <td>A2MVUWT453QH61</td>\n      <td>Roy E. Perry \"amateur philosopher\"</td>\n      <td>7/7</td>\n      <td>4.0</td>\n      <td>1090713600</td>\n      <td>Phlip Nel gives silly Seuss a serious treatment</td>\n      <td>Theodore Seuss Geisel (1904-1991), aka &amp;quot;D...</td>\n    </tr>\n    <tr>\n      <th>4</th>\n      <td>0826414346</td>\n      <td>Dr. Seuss: American Icon</td>\n      <td>NaN</td>\n      <td>A22X4XUPKF66MR</td>\n      <td>D. H. Richards \"ninthwavestore\"</td>\n      <td>3/3</td>\n      <td>4.0</td>\n      <td>1107993600</td>\n      <td>Good academic overview</td>\n      <td>Philip Nel - Dr. Seuss: American IconThis is b...</td>\n    </tr>\n    <tr>\n      <th>...</th>\n      <td>...</td>\n      <td>...</td>\n      <td>...</td>\n      <td>...</td>\n      <td>...</td>\n      <td>...</td>\n      <td>...</td>\n      <td>...</td>\n      <td>...</td>\n      <td>...</td>\n    </tr>\n    <tr>\n      <th>2999995</th>\n      <td>B000NSLVCU</td>\n      <td>The Idea of History</td>\n      <td>NaN</td>\n      <td>NaN</td>\n      <td>NaN</td>\n      <td>14/19</td>\n      <td>4.0</td>\n      <td>937612800</td>\n      <td>Difficult</td>\n      <td>This is an extremely difficult book to digest,...</td>\n    </tr>\n    <tr>\n      <th>2999996</th>\n      <td>B000NSLVCU</td>\n      <td>The Idea of History</td>\n      <td>NaN</td>\n      <td>A1SMUB9ASL5L9Y</td>\n      <td>jafrank</td>\n      <td>1/1</td>\n      <td>4.0</td>\n      <td>1331683200</td>\n      <td>Quite good and ahead of its time occasionally</td>\n      <td>This is pretty interesting. Collingwood seems ...</td>\n    </tr>\n    <tr>\n      <th>2999997</th>\n      <td>B000NSLVCU</td>\n      <td>The Idea of History</td>\n      <td>NaN</td>\n      <td>A2AQMEKZKK5EE4</td>\n      <td>L. L. Poulos \"Muslim Mom\"</td>\n      <td>0/0</td>\n      <td>4.0</td>\n      <td>1180224000</td>\n      <td>Easier reads of those not well versed in histo...</td>\n      <td>This is a good book but very esoteric. \"What i...</td>\n    </tr>\n    <tr>\n      <th>2999998</th>\n      <td>B000NSLVCU</td>\n      <td>The Idea of History</td>\n      <td>NaN</td>\n      <td>A18SQGYBKS852K</td>\n      <td>Julia A. Klein \"knitting rat\"</td>\n      <td>1/11</td>\n      <td>5.0</td>\n      <td>1163030400</td>\n      <td>Yes, it is cheaper than the University Bookstore</td>\n      <td>My daughter, a freshman at Indiana University,...</td>\n    </tr>\n    <tr>\n      <th>2999999</th>\n      <td>B000NSLVCU</td>\n      <td>The Idea of History</td>\n      <td>NaN</td>\n      <td>NaN</td>\n      <td>NaN</td>\n      <td>7/49</td>\n      <td>1.0</td>\n      <td>905385600</td>\n      <td>Collingwood's ideas sink in a quagmire or verb...</td>\n      <td>The guy has a few good ideas but, reader, bewa...</td>\n    </tr>\n  </tbody>\n</table>\n<p>3000000 rows × 10 columns</p>\n</div>"
     },
     "execution_count": 2,
     "metadata": {},
     "output_type": "execute_result"
    }
   ],
   "source": [
    "books_data_raw = pd.read_csv('data/Books_rating.csv')\n",
    "books_data_raw"
   ],
   "metadata": {
    "collapsed": false
   }
  },
  {
   "cell_type": "code",
   "execution_count": 3,
   "outputs": [],
   "source": [
    "books_data = books_data_raw[['review/score', 'review/text']].copy()\n",
    "books_data.rename(columns={'review/score': 'score', 'review/text': 'text'}, inplace=True)"
   ],
   "metadata": {
    "collapsed": false
   }
  },
  {
   "cell_type": "code",
   "execution_count": 4,
   "outputs": [
    {
     "data": {
      "text/plain": "2999992"
     },
     "execution_count": 4,
     "metadata": {},
     "output_type": "execute_result"
    }
   ],
   "source": [
    "# Remove rows with null values.\n",
    "books_data = books_data.dropna()\n",
    "len(books_data)"
   ],
   "metadata": {
    "collapsed": false
   }
  },
  {
   "cell_type": "code",
   "execution_count": 5,
   "outputs": [],
   "source": [
    "# TODO: use more 10000\n",
    "books_data = books_data.head(50000)"
   ],
   "metadata": {
    "collapsed": false
   }
  },
  {
   "cell_type": "code",
   "execution_count": 6,
   "outputs": [
    {
     "data": {
      "text/plain": "<AxesSubplot: xlabel='score', ylabel='count'>"
     },
     "execution_count": 6,
     "metadata": {},
     "output_type": "execute_result"
    },
    {
     "data": {
      "text/plain": "<Figure size 432x288 with 1 Axes>",
      "image/png": "[encoded data removed]"
     },
     "metadata": {
      "needs_background": "light"
     },
     "output_type": "display_data"
    }
   ],
   "source": [
    "sns.countplot(x=\"score\", data=books_data)"
   ],
   "metadata": {
    "collapsed": false
   }
  },
  {
   "cell_type": "code",
   "execution_count": null,
   "outputs": [],
   "source": [
    "X_raw = books_data.text\n",
    "y_raw = books_data.score\n",
    "tokenizer = Tokenizer()\n",
    "tokenizer.fit_on_texts(X_raw)\n",
    "X_tokenized = tokenizer.texts_to_sequences(X_raw)"
   ],
   "metadata": {
    "collapsed": false
   }
  },
  {
   "cell_type": "code",
   "execution_count": 21,
   "outputs": [],
   "source": [
    "X_padded = pad_sequences(X_tokenized, padding='post')"
   ],
   "metadata": {
    "collapsed": false
   }
  },
  {
   "cell_type": "code",
   "execution_count": 22,
   "outputs": [],
   "source": [
    "under_sampler = RandomUnderSampler(random_state=42)\n",
    "X_balanced, y_balanced = under_sampler.fit_resample(X_padded, y_raw)"
   ],
   "metadata": {
    "collapsed": false
   }
  },
  {
   "cell_type": "code",
   "execution_count": 23,
   "outputs": [
    {
     "data": {
      "text/plain": "<AxesSubplot: xlabel='score', ylabel='count'>"
     },
     "execution_count": 23,
     "metadata": {},
     "output_type": "execute_result"
    },
    {
     "data": {
      "text/plain": "<Figure size 432x288 with 1 Axes>",
      "image/png": "[encoded data removed]"
     },
     "metadata": {
      "needs_background": "light"
     },
     "output_type": "display_data"
    }
   ],
   "source": [
    "sns.countplot(x=\"score\", data=pd.DataFrame(y_balanced))"
   ],
   "metadata": {
    "collapsed": false
   }
  },
  {
   "cell_type": "code",
   "execution_count": 24,
   "outputs": [
    {
     "data": {
      "text/plain": "105282"
     },
     "execution_count": 24,
     "metadata": {},
     "output_type": "execute_result"
    }
   ],
   "source": [
    "# Adding 1 because of reserved 0 index\n",
    "vocab_size = len(tokenizer.word_index) + 1\n",
    "vocab_size"
   ],
   "metadata": {
    "collapsed": false
   }
  },
  {
   "cell_type": "code",
   "execution_count": 25,
   "outputs": [
    {
     "data": {
      "text/plain": "array([[1., 0., 0., 0., 0.],\n       [1., 0., 0., 0., 0.],\n       [1., 0., 0., 0., 0.],\n       [1., 0., 0., 0., 0.],\n       [1., 0., 0., 0., 0.]], dtype=float32)"
     },
     "execution_count": 25,
     "metadata": {},
     "output_type": "execute_result"
    }
   ],
   "source": [
    "# One-hot encoding\n",
    "y_one_hot = np_utils.to_categorical([int(score) - 1 for score in y_balanced])\n",
    "y_one_hot[:5]"
   ],
   "metadata": {
    "collapsed": false
   }
  },
  {
   "cell_type": "code",
   "execution_count": 26,
   "outputs": [],
   "source": [
    "X_train, X_test, y_train, y_test = train_test_split(X_balanced, y_one_hot, test_size=0.20, random_state=42)"
   ],
   "metadata": {
    "collapsed": false
   }
  },
  {
   "cell_type": "code",
   "execution_count": 15,
   "outputs": [],
   "source": [
    "embeddings_dict = dict()\n",
    "embeddings_file = open('data/glove.6B.300d.txt', encoding=\"utf8\")\n",
    "for line in embeddings_file:\n",
    "    values = line.split()\n",
    "    word = values[0]\n",
    "    vector = np.asarray(values[1:], dtype='float32')\n",
    "    embeddings_dict[word] = vector\n",
    "embeddings_file.close()"
   ],
   "metadata": {
    "collapsed": false
   }
  },
  {
   "cell_type": "code",
   "execution_count": 16,
   "outputs": [],
   "source": [
    "embeddings_matrix = np.zeros((vocab_size, 300))\n",
    "for word, index in tokenizer.word_index.items():\n",
    "    embedding = embeddings_dict.get(word)\n",
    "    if embedding is not None:\n",
    "        embeddings_matrix[index] = embedding"
   ],
   "metadata": {
    "collapsed": false
   }
  },
  {
   "cell_type": "code",
   "execution_count": 27,
   "outputs": [
    {
     "name": "stdout",
     "output_type": "stream",
     "text": [
      "Model: \"sequential_1\"\n",
      "_________________________________________________________________\n",
      " Layer (type)                Output Shape              Param #   \n",
      "=================================================================\n",
      " embedding_1 (Embedding)     (None, 5026, 300)         31584600  \n",
      "                                                                 \n",
      " flatten_1 (Flatten)         (None, 1507800)           0         \n",
      "                                                                 \n",
      " dense_3 (Dense)             (None, 32)                48249632  \n",
      "                                                                 \n",
      " dense_4 (Dense)             (None, 32)                1056      \n",
      "                                                                 \n",
      " dense_5 (Dense)             (None, 5)                 165       \n",
      "                                                                 \n",
      "=================================================================\n",
      "Total params: 79,835,453\n",
      "Trainable params: 48,250,853\n",
      "Non-trainable params: 31,584,600\n",
      "_________________________________________________________________\n",
      "None\n"
     ]
    }
   ],
   "source": [
    "model = Sequential()\n",
    "\n",
    "embedding_layer = Embedding(\n",
    "    vocab_size,\n",
    "    300,\n",
    "    weights=[embeddings_matrix],\n",
    "    input_length=max([len(sent) for sent in X_balanced]),\n",
    "    trainable=False\n",
    ")\n",
    "model.add(embedding_layer)\n",
    "\n",
    "model.add(Flatten())\n",
    "# model.add(Dropout(0.2))\n",
    "model.add(Dense(32, activation='relu'))\n",
    "# model.add(Dropout(0.2))\n",
    "model.add(Dense(32, activation='relu'))\n",
    "model.add(Dense(5, activation='softmax'))\n",
    "\n",
    "model.compile(optimizer='adam', loss='categorical_crossentropy', metrics=['accuracy'])\n",
    "\n",
    "print(model.summary())"
   ],
   "metadata": {
    "collapsed": false
   }
  },
  {
   "cell_type": "code",
   "execution_count": 28,
   "outputs": [
    {
     "name": "stdout",
     "output_type": "stream",
     "text": [
      "Epoch 1/10\n",
      "8/8 [==============================] - 158s 18s/step - loss: 1.6966 - accuracy: 0.2186 - val_loss: 1.6126 - val_accuracy: 0.2369\n",
      "Epoch 2/10\n",
      "8/8 [==============================] - 145s 18s/step - loss: 1.5016 - accuracy: 0.3413 - val_loss: 1.5738 - val_accuracy: 0.2912\n",
      "Epoch 3/10\n",
      "8/8 [==============================] - 116s 15s/step - loss: 1.3167 - accuracy: 0.5006 - val_loss: 1.5465 - val_accuracy: 0.3139\n",
      "Epoch 4/10\n",
      "8/8 [==============================] - 127s 17s/step - loss: 1.0679 - accuracy: 0.6567 - val_loss: 1.5669 - val_accuracy: 0.3189\n",
      "Epoch 5/10\n",
      "8/8 [==============================] - 119s 15s/step - loss: 0.8158 - accuracy: 0.7774 - val_loss: 1.5486 - val_accuracy: 0.3405\n",
      "Epoch 6/10\n",
      "8/8 [==============================] - 117s 14s/step - loss: 0.5984 - accuracy: 0.8628 - val_loss: 1.6013 - val_accuracy: 0.3426\n",
      "Epoch 7/10\n",
      "8/8 [==============================] - 112s 14s/step - loss: 0.4359 - accuracy: 0.9179 - val_loss: 1.6798 - val_accuracy: 0.3335\n",
      "Epoch 8/10\n",
      "8/8 [==============================] - 133s 18s/step - loss: 0.3185 - accuracy: 0.9472 - val_loss: 1.7499 - val_accuracy: 0.3325\n",
      "Epoch 9/10\n",
      "8/8 [==============================] - 112s 14s/step - loss: 0.2311 - accuracy: 0.9672 - val_loss: 1.8195 - val_accuracy: 0.3385\n",
      "Epoch 10/10\n",
      "4/8 [==============>...............] - ETA: 1:00 - loss: 0.1743 - accuracy: 0.9785"
     ]
    },
    {
     "name": "stderr",
     "output_type": "stream",
     "text": [
      "ERROR:root:Internal Python error in the inspect module.\n",
      "Below is the traceback from this internal error.\n",
      "\n",
      "\n",
      "KeyboardInterrupt\n",
      "\n"
     ]
    }
   ],
   "source": [
    "BATCH_SIZE = 1024\n",
    "EPOCHS = 10\n",
    "\n",
    "history = model.fit(X_train, y_train, batch_size=BATCH_SIZE, epochs=EPOCHS, verbose=1, validation_split=0.2)"
   ],
   "metadata": {
    "collapsed": false
   }
  },
  {
   "cell_type": "code",
   "execution_count": 20,
   "outputs": [
    {
     "name": "stdout",
     "output_type": "stream",
     "text": [
      "78/78 [==============================] - 1s 7ms/step - loss: 1.8507 - accuracy: 0.3219\n",
      "Test Score: 1.8506834506988525\n",
      "Test Accuracy: 0.3219316005706787\n"
     ]
    }
   ],
   "source": [
    "score = model.evaluate(X_test, y_test, verbose=1)\n",
    "print(\"Test Score:\", score[0])\n",
    "print(\"Test Accuracy:\", score[1])"
   ],
   "metadata": {
    "collapsed": false
   }
  },
  {
   "cell_type": "code",
   "execution_count": null,
   "outputs": [],
   "source": [],
   "metadata": {
    "collapsed": false
   }
  }
 ],
 "metadata": {
  "kernelspec": {
   "display_name": "Python 3",
   "language": "python",
   "name": "python3"
  },
  "language_info": {
   "codemirror_mode": {
    "name": "ipython",
    "version": 2
   },
   "file_extension": ".py",
   "mimetype": "text/x-python",
   "name": "python",
   "nbconvert_exporter": "python",
   "pygments_lexer": "ipython2",
   "version": "2.7.6"
  }
 },
 "nbformat": 4,
 "nbformat_minor": 0
}
