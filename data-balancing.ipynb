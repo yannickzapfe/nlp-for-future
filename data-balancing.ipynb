{
 "cells": [
  {
   "cell_type": "code",
   "execution_count": 9,
   "outputs": [],
   "source": [
    "import pandas as pd\n",
    "import seaborn as sns\n",
    "\n",
    "from imblearn.under_sampling import RandomUnderSampler\n",
    "from keras.preprocessing.text import Tokenizer\n",
    "from keras.preprocessing.sequence import pad_sequences"
   ],
   "metadata": {
    "collapsed": false
   }
  },
  {
   "cell_type": "code",
   "execution_count": 2,
   "outputs": [
    {
     "data": {
      "text/plain": "                 Id                           Title  Price         User_id  \\\n0        1882931173  Its Only Art If Its Well Hung!    NaN   AVCGYZL8FQQTD   \n1        0826414346        Dr. Seuss: American Icon    NaN  A30TK6U7DNS82R   \n2        0826414346        Dr. Seuss: American Icon    NaN  A3UH4UZ4RSVO82   \n3        0826414346        Dr. Seuss: American Icon    NaN  A2MVUWT453QH61   \n4        0826414346        Dr. Seuss: American Icon    NaN  A22X4XUPKF66MR   \n...             ...                             ...    ...             ...   \n2999995  B000NSLVCU             The Idea of History    NaN             NaN   \n2999996  B000NSLVCU             The Idea of History    NaN  A1SMUB9ASL5L9Y   \n2999997  B000NSLVCU             The Idea of History    NaN  A2AQMEKZKK5EE4   \n2999998  B000NSLVCU             The Idea of History    NaN  A18SQGYBKS852K   \n2999999  B000NSLVCU             The Idea of History    NaN             NaN   \n\n                                profileName review/helpfulness  review/score  \\\n0                     Jim of Oz \"jim-of-oz\"                7/7           4.0   \n1                             Kevin Killian              10/10           5.0   \n2                              John Granger              10/11           5.0   \n3        Roy E. Perry \"amateur philosopher\"                7/7           4.0   \n4           D. H. Richards \"ninthwavestore\"                3/3           4.0   \n...                                     ...                ...           ...   \n2999995                                 NaN              14/19           4.0   \n2999996                             jafrank                1/1           4.0   \n2999997           L. L. Poulos \"Muslim Mom\"                0/0           4.0   \n2999998       Julia A. Klein \"knitting rat\"               1/11           5.0   \n2999999                                 NaN               7/49           1.0   \n\n         review/time                                     review/summary  \\\n0          940636800             Nice collection of Julie Strain images   \n1         1095724800                                  Really Enjoyed It   \n2         1078790400    Essential for every personal and Public Library   \n3         1090713600    Phlip Nel gives silly Seuss a serious treatment   \n4         1107993600                             Good academic overview   \n...              ...                                                ...   \n2999995    937612800                                          Difficult   \n2999996   1331683200      Quite good and ahead of its time occasionally   \n2999997   1180224000  Easier reads of those not well versed in histo...   \n2999998   1163030400   Yes, it is cheaper than the University Bookstore   \n2999999    905385600  Collingwood's ideas sink in a quagmire or verb...   \n\n                                               review/text  \n0        This is only for Julie Strain fans. It's a col...  \n1        I don't care much for Dr. Seuss but after read...  \n2        If people become the books they read and if \"t...  \n3        Theodore Seuss Geisel (1904-1991), aka &quot;D...  \n4        Philip Nel - Dr. Seuss: American IconThis is b...  \n...                                                    ...  \n2999995  This is an extremely difficult book to digest,...  \n2999996  This is pretty interesting. Collingwood seems ...  \n2999997  This is a good book but very esoteric. \"What i...  \n2999998  My daughter, a freshman at Indiana University,...  \n2999999  The guy has a few good ideas but, reader, bewa...  \n\n[3000000 rows x 10 columns]",
      "text/html": "<div>\n<style scoped>\n    .dataframe tbody tr th:only-of-type {\n        vertical-align: middle;\n    }\n\n    .dataframe tbody tr th {\n        vertical-align: top;\n    }\n\n    .dataframe thead th {\n        text-align: right;\n    }\n</style>\n<table border=\"1\" class=\"dataframe\">\n  <thead>\n    <tr style=\"text-align: right;\">\n      <th></th>\n      <th>Id</th>\n      <th>Title</th>\n      <th>Price</th>\n      <th>User_id</th>\n      <th>profileName</th>\n      <th>review/helpfulness</th>\n      <th>review/score</th>\n      <th>review/time</th>\n      <th>review/summary</th>\n      <th>review/text</th>\n    </tr>\n  </thead>\n  <tbody>\n    <tr>\n      <th>0</th>\n      <td>1882931173</td>\n      <td>Its Only Art If Its Well Hung!</td>\n      <td>NaN</td>\n      <td>AVCGYZL8FQQTD</td>\n      <td>Jim of Oz \"jim-of-oz\"</td>\n      <td>7/7</td>\n      <td>4.0</td>\n      <td>940636800</td>\n      <td>Nice collection of Julie Strain images</td>\n      <td>This is only for Julie Strain fans. It's a col...</td>\n    </tr>\n    <tr>\n      <th>1</th>\n      <td>0826414346</td>\n      <td>Dr. Seuss: American Icon</td>\n      <td>NaN</td>\n      <td>A30TK6U7DNS82R</td>\n      <td>Kevin Killian</td>\n      <td>10/10</td>\n      <td>5.0</td>\n      <td>1095724800</td>\n      <td>Really Enjoyed It</td>\n      <td>I don't care much for Dr. Seuss but after read...</td>\n    </tr>\n    <tr>\n      <th>2</th>\n      <td>0826414346</td>\n      <td>Dr. Seuss: American Icon</td>\n      <td>NaN</td>\n      <td>A3UH4UZ4RSVO82</td>\n      <td>John Granger</td>\n      <td>10/11</td>\n      <td>5.0</td>\n      <td>1078790400</td>\n      <td>Essential for every personal and Public Library</td>\n      <td>If people become the books they read and if \"t...</td>\n    </tr>\n    <tr>\n      <th>3</th>\n      <td>0826414346</td>\n      <td>Dr. Seuss: American Icon</td>\n      <td>NaN</td>\n      <td>A2MVUWT453QH61</td>\n      <td>Roy E. Perry \"amateur philosopher\"</td>\n      <td>7/7</td>\n      <td>4.0</td>\n      <td>1090713600</td>\n      <td>Phlip Nel gives silly Seuss a serious treatment</td>\n      <td>Theodore Seuss Geisel (1904-1991), aka &amp;quot;D...</td>\n    </tr>\n    <tr>\n      <th>4</th>\n      <td>0826414346</td>\n      <td>Dr. Seuss: American Icon</td>\n      <td>NaN</td>\n      <td>A22X4XUPKF66MR</td>\n      <td>D. H. Richards \"ninthwavestore\"</td>\n      <td>3/3</td>\n      <td>4.0</td>\n      <td>1107993600</td>\n      <td>Good academic overview</td>\n      <td>Philip Nel - Dr. Seuss: American IconThis is b...</td>\n    </tr>\n    <tr>\n      <th>...</th>\n      <td>...</td>\n      <td>...</td>\n      <td>...</td>\n      <td>...</td>\n      <td>...</td>\n      <td>...</td>\n      <td>...</td>\n      <td>...</td>\n      <td>...</td>\n      <td>...</td>\n    </tr>\n    <tr>\n      <th>2999995</th>\n      <td>B000NSLVCU</td>\n      <td>The Idea of History</td>\n      <td>NaN</td>\n      <td>NaN</td>\n      <td>NaN</td>\n      <td>14/19</td>\n      <td>4.0</td>\n      <td>937612800</td>\n      <td>Difficult</td>\n      <td>This is an extremely difficult book to digest,...</td>\n    </tr>\n    <tr>\n      <th>2999996</th>\n      <td>B000NSLVCU</td>\n      <td>The Idea of History</td>\n      <td>NaN</td>\n      <td>A1SMUB9ASL5L9Y</td>\n      <td>jafrank</td>\n      <td>1/1</td>\n      <td>4.0</td>\n      <td>1331683200</td>\n      <td>Quite good and ahead of its time occasionally</td>\n      <td>This is pretty interesting. Collingwood seems ...</td>\n    </tr>\n    <tr>\n      <th>2999997</th>\n      <td>B000NSLVCU</td>\n      <td>The Idea of History</td>\n      <td>NaN</td>\n      <td>A2AQMEKZKK5EE4</td>\n      <td>L. L. Poulos \"Muslim Mom\"</td>\n      <td>0/0</td>\n      <td>4.0</td>\n      <td>1180224000</td>\n      <td>Easier reads of those not well versed in histo...</td>\n      <td>This is a good book but very esoteric. \"What i...</td>\n    </tr>\n    <tr>\n      <th>2999998</th>\n      <td>B000NSLVCU</td>\n      <td>The Idea of History</td>\n      <td>NaN</td>\n      <td>A18SQGYBKS852K</td>\n      <td>Julia A. Klein \"knitting rat\"</td>\n      <td>1/11</td>\n      <td>5.0</td>\n      <td>1163030400</td>\n      <td>Yes, it is cheaper than the University Bookstore</td>\n      <td>My daughter, a freshman at Indiana University,...</td>\n    </tr>\n    <tr>\n      <th>2999999</th>\n      <td>B000NSLVCU</td>\n      <td>The Idea of History</td>\n      <td>NaN</td>\n      <td>NaN</td>\n      <td>NaN</td>\n      <td>7/49</td>\n      <td>1.0</td>\n      <td>905385600</td>\n      <td>Collingwood's ideas sink in a quagmire or verb...</td>\n      <td>The guy has a few good ideas but, reader, bewa...</td>\n    </tr>\n  </tbody>\n</table>\n<p>3000000 rows × 10 columns</p>\n</div>"
     },
     "execution_count": 2,
     "metadata": {},
     "output_type": "execute_result"
    }
   ],
   "source": [
    "books_data_raw = pd.read_csv('data/Books_rating.csv')\n",
    "books_data_raw"
   ],
   "metadata": {
    "collapsed": false
   }
  },
  {
   "cell_type": "code",
   "execution_count": 3,
   "outputs": [],
   "source": [
    "books_data = books_data_raw[['review/score', 'review/text']].copy()\n",
    "books_data.rename(columns={'review/score': 'score', 'review/text': 'text'}, inplace=True)"
   ],
   "metadata": {
    "collapsed": false
   }
  },
  {
   "cell_type": "code",
   "execution_count": 4,
   "outputs": [
    {
     "data": {
      "text/plain": "2999992"
     },
     "execution_count": 4,
     "metadata": {},
     "output_type": "execute_result"
    }
   ],
   "source": [
    "# Remove rows with null values.\n",
    "books_data = books_data.dropna()\n",
    "len(books_data)"
   ],
   "metadata": {
    "collapsed": false
   }
  },
  {
   "cell_type": "code",
   "execution_count": 5,
   "outputs": [
    {
     "data": {
      "text/plain": "<AxesSubplot: xlabel='score', ylabel='count'>"
     },
     "execution_count": 5,
     "metadata": {},
     "output_type": "execute_result"
    },
    {
     "data": {
      "text/plain": "<Figure size 432x288 with 1 Axes>",
      "image/png": "[encoded data removed]"
     },
     "metadata": {
      "needs_background": "light"
     },
     "output_type": "display_data"
    }
   ],
   "source": [
    "sns.countplot(x='score', data=books_data)"
   ],
   "metadata": {
    "collapsed": false
   }
  },
  {
   "cell_type": "code",
   "execution_count": null,
   "outputs": [],
   "source": [
    "X = books_data.text\n",
    "y = books_data.score\n",
    "tokenizer = Tokenizer(num_words=5000)\n",
    "tokenizer.fit_on_texts(X)\n",
    "X = tokenizer.texts_to_sequences(X)\n",
    "# Adding 1 because of reserved 0 index\n",
    "vocab_size = len(tokenizer.word_index) + 1\n",
    "X = pad_sequences(X, padding='post')"
   ],
   "metadata": {
    "collapsed": false,
    "pycharm": {
     "is_executing": true
    }
   }
  },
  {
   "cell_type": "code",
   "execution_count": 8,
   "outputs": [
    {
     "ename": "MemoryError",
     "evalue": "Unable to allocate 364. GiB for an array with shape (2999992, 1) and data type <U32576",
     "output_type": "error",
     "traceback": [
      "\u001B[1;31m---------------------------------------------------------------------------\u001B[0m",
      "\u001B[1;31mMemoryError\u001B[0m                               Traceback (most recent call last)",
      "\u001B[1;32m~\\AppData\\Local\\Temp/ipykernel_16372/2165752424.py\u001B[0m in \u001B[0;36m<module>\u001B[1;34m\u001B[0m\n\u001B[0;32m      1\u001B[0m \u001B[0munder_sampler\u001B[0m \u001B[1;33m=\u001B[0m \u001B[0mRandomUnderSampler\u001B[0m\u001B[1;33m(\u001B[0m\u001B[0mrandom_state\u001B[0m\u001B[1;33m=\u001B[0m\u001B[1;36m42\u001B[0m\u001B[1;33m)\u001B[0m\u001B[1;33m\u001B[0m\u001B[1;33m\u001B[0m\u001B[0m\n\u001B[1;32m----> 2\u001B[1;33m \u001B[0mX\u001B[0m\u001B[1;33m,\u001B[0m \u001B[0my\u001B[0m \u001B[1;33m=\u001B[0m \u001B[0munder_sampler\u001B[0m\u001B[1;33m.\u001B[0m\u001B[0mfit_resample\u001B[0m\u001B[1;33m(\u001B[0m\u001B[1;33m[\u001B[0m\u001B[1;33m[\u001B[0m\u001B[0mtext\u001B[0m\u001B[1;33m]\u001B[0m \u001B[1;32mfor\u001B[0m \u001B[0mtext\u001B[0m \u001B[1;32min\u001B[0m \u001B[0mbooks_data\u001B[0m\u001B[1;33m.\u001B[0m\u001B[0mtext\u001B[0m\u001B[1;33m]\u001B[0m\u001B[1;33m,\u001B[0m \u001B[0mbooks_data\u001B[0m\u001B[1;33m.\u001B[0m\u001B[0mscore\u001B[0m\u001B[1;33m)\u001B[0m\u001B[1;33m\u001B[0m\u001B[1;33m\u001B[0m\u001B[0m\n\u001B[0m",
      "\u001B[1;32mc:\\users\\yanni\\appdata\\local\\programs\\python\\python39\\lib\\site-packages\\imblearn\\base.py\u001B[0m in \u001B[0;36mfit_resample\u001B[1;34m(self, X, y)\u001B[0m\n\u001B[0;32m     75\u001B[0m         \u001B[0mcheck_classification_targets\u001B[0m\u001B[1;33m(\u001B[0m\u001B[0my\u001B[0m\u001B[1;33m)\u001B[0m\u001B[1;33m\u001B[0m\u001B[1;33m\u001B[0m\u001B[0m\n\u001B[0;32m     76\u001B[0m         \u001B[0marrays_transformer\u001B[0m \u001B[1;33m=\u001B[0m \u001B[0mArraysTransformer\u001B[0m\u001B[1;33m(\u001B[0m\u001B[0mX\u001B[0m\u001B[1;33m,\u001B[0m \u001B[0my\u001B[0m\u001B[1;33m)\u001B[0m\u001B[1;33m\u001B[0m\u001B[1;33m\u001B[0m\u001B[0m\n\u001B[1;32m---> 77\u001B[1;33m         \u001B[0mX\u001B[0m\u001B[1;33m,\u001B[0m \u001B[0my\u001B[0m\u001B[1;33m,\u001B[0m \u001B[0mbinarize_y\u001B[0m \u001B[1;33m=\u001B[0m \u001B[0mself\u001B[0m\u001B[1;33m.\u001B[0m\u001B[0m_check_X_y\u001B[0m\u001B[1;33m(\u001B[0m\u001B[0mX\u001B[0m\u001B[1;33m,\u001B[0m \u001B[0my\u001B[0m\u001B[1;33m)\u001B[0m\u001B[1;33m\u001B[0m\u001B[1;33m\u001B[0m\u001B[0m\n\u001B[0m\u001B[0;32m     78\u001B[0m \u001B[1;33m\u001B[0m\u001B[0m\n\u001B[0;32m     79\u001B[0m         self.sampling_strategy_ = check_sampling_strategy(\n",
      "\u001B[1;32mc:\\users\\yanni\\appdata\\local\\programs\\python\\python39\\lib\\site-packages\\imblearn\\under_sampling\\_prototype_selection\\_random_under_sampler.py\u001B[0m in \u001B[0;36m_check_X_y\u001B[1;34m(self, X, y)\u001B[0m\n\u001B[0;32m     92\u001B[0m     \u001B[1;32mdef\u001B[0m \u001B[0m_check_X_y\u001B[0m\u001B[1;33m(\u001B[0m\u001B[0mself\u001B[0m\u001B[1;33m,\u001B[0m \u001B[0mX\u001B[0m\u001B[1;33m,\u001B[0m \u001B[0my\u001B[0m\u001B[1;33m)\u001B[0m\u001B[1;33m:\u001B[0m\u001B[1;33m\u001B[0m\u001B[1;33m\u001B[0m\u001B[0m\n\u001B[0;32m     93\u001B[0m         \u001B[0my\u001B[0m\u001B[1;33m,\u001B[0m \u001B[0mbinarize_y\u001B[0m \u001B[1;33m=\u001B[0m \u001B[0mcheck_target_type\u001B[0m\u001B[1;33m(\u001B[0m\u001B[0my\u001B[0m\u001B[1;33m,\u001B[0m \u001B[0mindicate_one_vs_all\u001B[0m\u001B[1;33m=\u001B[0m\u001B[1;32mTrue\u001B[0m\u001B[1;33m)\u001B[0m\u001B[1;33m\u001B[0m\u001B[1;33m\u001B[0m\u001B[0m\n\u001B[1;32m---> 94\u001B[1;33m         X, y = self._validate_data(\n\u001B[0m\u001B[0;32m     95\u001B[0m             \u001B[0mX\u001B[0m\u001B[1;33m,\u001B[0m\u001B[1;33m\u001B[0m\u001B[1;33m\u001B[0m\u001B[0m\n\u001B[0;32m     96\u001B[0m             \u001B[0my\u001B[0m\u001B[1;33m,\u001B[0m\u001B[1;33m\u001B[0m\u001B[1;33m\u001B[0m\u001B[0m\n",
      "\u001B[1;32mc:\\users\\yanni\\appdata\\local\\programs\\python\\python39\\lib\\site-packages\\sklearn\\base.py\u001B[0m in \u001B[0;36m_validate_data\u001B[1;34m(self, X, y, reset, validate_separately, **check_params)\u001B[0m\n\u001B[0;32m    594\u001B[0m                 \u001B[0my\u001B[0m \u001B[1;33m=\u001B[0m \u001B[0mcheck_array\u001B[0m\u001B[1;33m(\u001B[0m\u001B[0my\u001B[0m\u001B[1;33m,\u001B[0m \u001B[0minput_name\u001B[0m\u001B[1;33m=\u001B[0m\u001B[1;34m\"y\"\u001B[0m\u001B[1;33m,\u001B[0m \u001B[1;33m**\u001B[0m\u001B[0mcheck_y_params\u001B[0m\u001B[1;33m)\u001B[0m\u001B[1;33m\u001B[0m\u001B[1;33m\u001B[0m\u001B[0m\n\u001B[0;32m    595\u001B[0m             \u001B[1;32melse\u001B[0m\u001B[1;33m:\u001B[0m\u001B[1;33m\u001B[0m\u001B[1;33m\u001B[0m\u001B[0m\n\u001B[1;32m--> 596\u001B[1;33m                 \u001B[0mX\u001B[0m\u001B[1;33m,\u001B[0m \u001B[0my\u001B[0m \u001B[1;33m=\u001B[0m \u001B[0mcheck_X_y\u001B[0m\u001B[1;33m(\u001B[0m\u001B[0mX\u001B[0m\u001B[1;33m,\u001B[0m \u001B[0my\u001B[0m\u001B[1;33m,\u001B[0m \u001B[1;33m**\u001B[0m\u001B[0mcheck_params\u001B[0m\u001B[1;33m)\u001B[0m\u001B[1;33m\u001B[0m\u001B[1;33m\u001B[0m\u001B[0m\n\u001B[0m\u001B[0;32m    597\u001B[0m             \u001B[0mout\u001B[0m \u001B[1;33m=\u001B[0m \u001B[0mX\u001B[0m\u001B[1;33m,\u001B[0m \u001B[0my\u001B[0m\u001B[1;33m\u001B[0m\u001B[1;33m\u001B[0m\u001B[0m\n\u001B[0;32m    598\u001B[0m \u001B[1;33m\u001B[0m\u001B[0m\n",
      "\u001B[1;32mc:\\users\\yanni\\appdata\\local\\programs\\python\\python39\\lib\\site-packages\\sklearn\\utils\\validation.py\u001B[0m in \u001B[0;36mcheck_X_y\u001B[1;34m(X, y, accept_sparse, accept_large_sparse, dtype, order, copy, force_all_finite, ensure_2d, allow_nd, multi_output, ensure_min_samples, ensure_min_features, y_numeric, estimator)\u001B[0m\n\u001B[0;32m   1072\u001B[0m         )\n\u001B[0;32m   1073\u001B[0m \u001B[1;33m\u001B[0m\u001B[0m\n\u001B[1;32m-> 1074\u001B[1;33m     X = check_array(\n\u001B[0m\u001B[0;32m   1075\u001B[0m         \u001B[0mX\u001B[0m\u001B[1;33m,\u001B[0m\u001B[1;33m\u001B[0m\u001B[1;33m\u001B[0m\u001B[0m\n\u001B[0;32m   1076\u001B[0m         \u001B[0maccept_sparse\u001B[0m\u001B[1;33m=\u001B[0m\u001B[0maccept_sparse\u001B[0m\u001B[1;33m,\u001B[0m\u001B[1;33m\u001B[0m\u001B[1;33m\u001B[0m\u001B[0m\n",
      "\u001B[1;32mc:\\users\\yanni\\appdata\\local\\programs\\python\\python39\\lib\\site-packages\\sklearn\\utils\\validation.py\u001B[0m in \u001B[0;36mcheck_array\u001B[1;34m(array, accept_sparse, accept_large_sparse, dtype, order, copy, force_all_finite, ensure_2d, allow_nd, ensure_min_samples, ensure_min_features, estimator, input_name)\u001B[0m\n\u001B[0;32m    854\u001B[0m                     \u001B[0marray\u001B[0m \u001B[1;33m=\u001B[0m \u001B[0marray\u001B[0m\u001B[1;33m.\u001B[0m\u001B[0mastype\u001B[0m\u001B[1;33m(\u001B[0m\u001B[0mdtype\u001B[0m\u001B[1;33m,\u001B[0m \u001B[0mcasting\u001B[0m\u001B[1;33m=\u001B[0m\u001B[1;34m\"unsafe\"\u001B[0m\u001B[1;33m,\u001B[0m \u001B[0mcopy\u001B[0m\u001B[1;33m=\u001B[0m\u001B[1;32mFalse\u001B[0m\u001B[1;33m)\u001B[0m\u001B[1;33m\u001B[0m\u001B[1;33m\u001B[0m\u001B[0m\n\u001B[0;32m    855\u001B[0m                 \u001B[1;32melse\u001B[0m\u001B[1;33m:\u001B[0m\u001B[1;33m\u001B[0m\u001B[1;33m\u001B[0m\u001B[0m\n\u001B[1;32m--> 856\u001B[1;33m                     \u001B[0marray\u001B[0m \u001B[1;33m=\u001B[0m \u001B[0mnp\u001B[0m\u001B[1;33m.\u001B[0m\u001B[0masarray\u001B[0m\u001B[1;33m(\u001B[0m\u001B[0marray\u001B[0m\u001B[1;33m,\u001B[0m \u001B[0morder\u001B[0m\u001B[1;33m=\u001B[0m\u001B[0morder\u001B[0m\u001B[1;33m,\u001B[0m \u001B[0mdtype\u001B[0m\u001B[1;33m=\u001B[0m\u001B[0mdtype\u001B[0m\u001B[1;33m)\u001B[0m\u001B[1;33m\u001B[0m\u001B[1;33m\u001B[0m\u001B[0m\n\u001B[0m\u001B[0;32m    857\u001B[0m             \u001B[1;32mexcept\u001B[0m \u001B[0mComplexWarning\u001B[0m \u001B[1;32mas\u001B[0m \u001B[0mcomplex_warning\u001B[0m\u001B[1;33m:\u001B[0m\u001B[1;33m\u001B[0m\u001B[1;33m\u001B[0m\u001B[0m\n\u001B[0;32m    858\u001B[0m                 raise ValueError(\n",
      "\u001B[1;31mMemoryError\u001B[0m: Unable to allocate 364. GiB for an array with shape (2999992, 1) and data type <U32576"
     ]
    }
   ],
   "source": [
    "under_sampler = RandomUnderSampler(random_state=42)\n",
    "X, y = under_sampler.fit_resample([text for text in books_data.text], books_data.score)"
   ],
   "metadata": {
    "collapsed": false
   }
  }
 ],
 "metadata": {
  "kernelspec": {
   "display_name": "Python 3",
   "language": "python",
   "name": "python3"
  },
  "language_info": {
   "codemirror_mode": {
    "name": "ipython",
    "version": 2
   },
   "file_extension": ".py",
   "mimetype": "text/x-python",
   "name": "python",
   "nbconvert_exporter": "python",
   "pygments_lexer": "ipython2",
   "version": "2.7.6"
  }
 },
 "nbformat": 4,
 "nbformat_minor": 0
}
