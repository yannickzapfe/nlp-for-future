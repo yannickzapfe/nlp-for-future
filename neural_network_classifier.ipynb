{
 "cells": [
  {
   "cell_type": "code",
   "execution_count": 1,
   "outputs": [],
   "source": [
    "import matplotlib.pyplot as plt\n",
    "import numpy as np\n",
    "import pandas as pd\n",
    "import preprocessing\n",
    "import seaborn as sns\n",
    "\n",
    "from keras.models import Sequential\n",
    "from keras.layers.core import Dense\n",
    "from keras.layers import Flatten\n",
    "from keras.layers.embeddings import Embedding\n",
    "from sklearn.model_selection import train_test_split"
   ],
   "metadata": {
    "collapsed": false
   }
  },
  {
   "cell_type": "code",
   "execution_count": 2,
   "outputs": [
    {
     "data": {
      "text/plain": "       score                                               text\n0        4.0  This is only for Julie Strain fans. It's a col...\n1        5.0  I don't care much for Dr. Seuss but after read...\n2        5.0  If people become the books they read and if \"t...\n3        4.0  Theodore Seuss Geisel (1904-1991), aka &quot;D...\n4        4.0  Philip Nel - Dr. Seuss: American IconThis is b...\n...      ...                                                ...\n19995    5.0  I truly cannot remember the last time I have r...\n19996    5.0  I am only sixteen years old and i just finishe...\n19997    5.0  I already wrote a review for this book; howeve...\n19998    5.0  I don't know what an average reader like me ca...\n19999    5.0  i felt i had to put my two cents in. I read th...\n\n[20000 rows x 2 columns]",
      "text/html": "<div>\n<style scoped>\n    .dataframe tbody tr th:only-of-type {\n        vertical-align: middle;\n    }\n\n    .dataframe tbody tr th {\n        vertical-align: top;\n    }\n\n    .dataframe thead th {\n        text-align: right;\n    }\n</style>\n<table border=\"1\" class=\"dataframe\">\n  <thead>\n    <tr style=\"text-align: right;\">\n      <th></th>\n      <th>score</th>\n      <th>text</th>\n    </tr>\n  </thead>\n  <tbody>\n    <tr>\n      <th>0</th>\n      <td>4.0</td>\n      <td>This is only for Julie Strain fans. It's a col...</td>\n    </tr>\n    <tr>\n      <th>1</th>\n      <td>5.0</td>\n      <td>I don't care much for Dr. Seuss but after read...</td>\n    </tr>\n    <tr>\n      <th>2</th>\n      <td>5.0</td>\n      <td>If people become the books they read and if \"t...</td>\n    </tr>\n    <tr>\n      <th>3</th>\n      <td>4.0</td>\n      <td>Theodore Seuss Geisel (1904-1991), aka &amp;quot;D...</td>\n    </tr>\n    <tr>\n      <th>4</th>\n      <td>4.0</td>\n      <td>Philip Nel - Dr. Seuss: American IconThis is b...</td>\n    </tr>\n    <tr>\n      <th>...</th>\n      <td>...</td>\n      <td>...</td>\n    </tr>\n    <tr>\n      <th>19995</th>\n      <td>5.0</td>\n      <td>I truly cannot remember the last time I have r...</td>\n    </tr>\n    <tr>\n      <th>19996</th>\n      <td>5.0</td>\n      <td>I am only sixteen years old and i just finishe...</td>\n    </tr>\n    <tr>\n      <th>19997</th>\n      <td>5.0</td>\n      <td>I already wrote a review for this book; howeve...</td>\n    </tr>\n    <tr>\n      <th>19998</th>\n      <td>5.0</td>\n      <td>I don't know what an average reader like me ca...</td>\n    </tr>\n    <tr>\n      <th>19999</th>\n      <td>5.0</td>\n      <td>i felt i had to put my two cents in. I read th...</td>\n    </tr>\n  </tbody>\n</table>\n<p>20000 rows × 2 columns</p>\n</div>"
     },
     "execution_count": 2,
     "metadata": {},
     "output_type": "execute_result"
    }
   ],
   "source": [
    "books_data = preprocessing.load_books_rating_data(20000)\n",
    "books_data"
   ],
   "metadata": {
    "collapsed": false
   }
  },
  {
   "cell_type": "code",
   "execution_count": 3,
   "outputs": [
    {
     "data": {
      "text/plain": "<AxesSubplot: xlabel='score', ylabel='count'>"
     },
     "execution_count": 3,
     "metadata": {},
     "output_type": "execute_result"
    },
    {
     "data": {
      "text/plain": "<Figure size 432x288 with 1 Axes>",
      "image/png": "[encoded data removed]"
     },
     "metadata": {
      "needs_background": "light"
     },
     "output_type": "display_data"
    }
   ],
   "source": [
    "sns.countplot(x=\"score\", data=books_data)"
   ],
   "metadata": {
    "collapsed": false
   }
  },
  {
   "cell_type": "code",
   "execution_count": 9,
   "outputs": [],
   "source": [
    "X_tokenized, tokenizer = preprocessing.nn_tokenize(books_data)\n",
    "X_padded = preprocessing.nn_pad(X_tokenized, None)"
   ],
   "metadata": {
    "collapsed": false
   }
  },
  {
   "cell_type": "code",
   "execution_count": 10,
   "outputs": [
    {
     "data": {
      "text/plain": "<AxesSubplot: xlabel='score', ylabel='count'>"
     },
     "execution_count": 10,
     "metadata": {},
     "output_type": "execute_result"
    },
    {
     "data": {
      "text/plain": "<Figure size 432x288 with 1 Axes>",
      "image/png": "[encoded data removed]"
     },
     "metadata": {
      "needs_background": "light"
     },
     "output_type": "display_data"
    }
   ],
   "source": [
    "X_balanced, y_balanced = preprocessing.under_sample(X_padded, books_data.score)\n",
    "sns.countplot(x=\"score\", data=pd.DataFrame(y_balanced))"
   ],
   "metadata": {
    "collapsed": false
   }
  },
  {
   "cell_type": "code",
   "execution_count": 12,
   "outputs": [],
   "source": [
    "y_one_hot = preprocessing.one_hot_encode(y_balanced)"
   ],
   "metadata": {
    "collapsed": false
   }
  },
  {
   "cell_type": "code",
   "execution_count": 13,
   "outputs": [],
   "source": [
    "X_train, X_test, y_train, y_test = train_test_split(X_balanced, y_one_hot, test_size=0.20, random_state=42)"
   ],
   "metadata": {
    "collapsed": false
   }
  },
  {
   "cell_type": "code",
   "execution_count": 14,
   "outputs": [],
   "source": [
    "embeddings_matrix = preprocessing.create_embeddings_matrix(tokenizer.word_index)"
   ],
   "metadata": {
    "collapsed": false
   }
  },
  {
   "cell_type": "code",
   "execution_count": 16,
   "outputs": [
    {
     "name": "stdout",
     "output_type": "stream",
     "text": [
      "Model: \"sequential_1\"\n",
      "_________________________________________________________________\n",
      " Layer (type)                Output Shape              Param #   \n",
      "=================================================================\n",
      " embedding_1 (Embedding)     (None, 2425, 300)         19228500  \n",
      "                                                                 \n",
      " flatten (Flatten)           (None, 727500)            0         \n",
      "                                                                 \n",
      " dense (Dense)               (None, 32)                23280032  \n",
      "                                                                 \n",
      " dense_1 (Dense)             (None, 32)                1056      \n",
      "                                                                 \n",
      " dense_2 (Dense)             (None, 5)                 165       \n",
      "                                                                 \n",
      "=================================================================\n",
      "Total params: 42,509,753\n",
      "Trainable params: 23,281,253\n",
      "Non-trainable params: 19,228,500\n",
      "_________________________________________________________________\n",
      "None\n"
     ]
    }
   ],
   "source": [
    "model = Sequential()\n",
    "\n",
    "embedding_layer = Embedding(\n",
    "    len(tokenizer.word_index) + 1,\n",
    "    300,\n",
    "    weights=[embeddings_matrix],\n",
    "    input_length=max([len(sent) for sent in X_balanced]),\n",
    "    trainable=False\n",
    ")\n",
    "model.add(embedding_layer)\n",
    "\n",
    "model.add(Flatten())\n",
    "# model.add(Dropout(0.2))\n",
    "model.add(Dense(32, activation='relu'))\n",
    "# model.add(Dropout(0.2))\n",
    "model.add(Dense(32, activation='relu'))\n",
    "model.add(Dense(5, activation='softmax'))\n",
    "\n",
    "model.compile(optimizer='adam', loss='categorical_crossentropy', metrics=['accuracy'])\n",
    "\n",
    "print(model.summary())"
   ],
   "metadata": {
    "collapsed": false
   }
  },
  {
   "cell_type": "code",
   "execution_count": 17,
   "outputs": [
    {
     "name": "stdout",
     "output_type": "stream",
     "text": [
      "Epoch 1/8\n",
      "8/8 [==============================] - 159s 18s/step - loss: 1.6841 - accuracy: 0.2119 - val_loss: 1.6274 - val_accuracy: 0.2490\n",
      "Epoch 2/8\n",
      "8/8 [==============================] - 149s 19s/step - loss: 1.4873 - accuracy: 0.3580 - val_loss: 1.5908 - val_accuracy: 0.2928\n",
      "Epoch 3/8\n",
      "8/8 [==============================] - 143s 18s/step - loss: 1.2344 - accuracy: 0.5252 - val_loss: 1.5206 - val_accuracy: 0.3436\n",
      "Epoch 4/8\n",
      "8/8 [==============================] - 159s 21s/step - loss: 0.9716 - accuracy: 0.6998 - val_loss: 1.5416 - val_accuracy: 0.3436\n",
      "Epoch 5/8\n",
      "8/8 [==============================] - 177s 22s/step - loss: 0.7258 - accuracy: 0.8291 - val_loss: 1.5474 - val_accuracy: 0.3451\n",
      "Epoch 6/8\n",
      "8/8 [==============================] - 133s 17s/step - loss: 0.5228 - accuracy: 0.8995 - val_loss: 1.5945 - val_accuracy: 0.3466\n",
      "Epoch 7/8\n",
      "8/8 [==============================] - 169s 21s/step - loss: 0.3669 - accuracy: 0.9464 - val_loss: 1.6720 - val_accuracy: 0.3405\n",
      "Epoch 8/8\n",
      "8/8 [==============================] - 151s 18s/step - loss: 0.2556 - accuracy: 0.9702 - val_loss: 1.7332 - val_accuracy: 0.3405\n"
     ]
    }
   ],
   "source": [
    "BATCH_SIZE = 1024\n",
    "EPOCHS = 8\n",
    "\n",
    "history = model.fit(X_train, y_train, batch_size=BATCH_SIZE, epochs=EPOCHS, verbose=1, validation_split=0.2)"
   ],
   "metadata": {
    "collapsed": false
   }
  },
  {
   "cell_type": "code",
   "execution_count": 18,
   "outputs": [
    {
     "name": "stdout",
     "output_type": "stream",
     "text": [
      "78/78 [==============================] - 9s 108ms/step - loss: 1.7482 - accuracy: 0.3433\n",
      "Test Score: 1.748180627822876\n",
      "Test Accuracy: 0.3432595431804657\n"
     ]
    }
   ],
   "source": [
    "score = model.evaluate(X_test, y_test, verbose=1)\n",
    "print(\"Test Score:\", score[0])\n",
    "print(\"Test Accuracy:\", score[1])"
   ],
   "metadata": {
    "collapsed": false
   }
  },
  {
   "cell_type": "code",
   "execution_count": 19,
   "outputs": [
    {
     "data": {
      "text/plain": "<Figure size 432x288 with 1 Axes>",
      "image/png": "[encoded data removed]"
     },
     "metadata": {
      "needs_background": "light"
     },
     "output_type": "display_data"
    },
    {
     "data": {
      "text/plain": "<Figure size 432x288 with 1 Axes>",
      "image/png": "[encoded data removed]"
     },
     "metadata": {
      "needs_background": "light"
     },
     "output_type": "display_data"
    }
   ],
   "source": [
    "plt.plot(history.history['accuracy'])\n",
    "plt.plot(history.history['val_accuracy'])\n",
    "\n",
    "plt.title('model accuracy')\n",
    "plt.ylabel('accuracy')\n",
    "plt.xlabel('epoch')\n",
    "plt.legend(['train','test'], loc='upper left')\n",
    "plt.show()\n",
    "\n",
    "plt.plot(history.history['loss'])\n",
    "plt.plot(history.history['val_loss'])\n",
    "\n",
    "plt.title('model loss')\n",
    "plt.ylabel('loss')\n",
    "plt.xlabel('epoch')\n",
    "plt.legend(['train','test'], loc='upper left')\n",
    "plt.show()"
   ],
   "metadata": {
    "collapsed": false
   }
  },
  {
   "cell_type": "code",
   "execution_count": 20,
   "outputs": [
    {
     "data": {
      "text/plain": "<Figure size 432x288 with 1 Axes>",
      "image/png": "[encoded data removed]"
     },
     "metadata": {
      "needs_background": "light"
     },
     "output_type": "display_data"
    }
   ],
   "source": [
    "# Create a grouped bar chart, with job as the x-axis\n",
    "# and gender as the variable we're grouping on so there\n",
    "# are two bars per job.\n",
    "fig, ax = plt.subplots()\n",
    "\n",
    "# Our x-axis. We basically just want a list\n",
    "# of numbers from zero with a value for each\n",
    "# of our jobs.\n",
    "xs = np.arange(2)\n",
    "\n",
    "# Define bar width. We need this to offset the second bar.\n",
    "bar_width = 0.4\n",
    "\n",
    "b1 = ax.bar(xs, [0.55, 0.39], width=bar_width, label='Naive Bayes')\n",
    "# Same thing, but offset the x.\n",
    "b2 = ax.bar(xs + bar_width, [0.56, 0.33], width=bar_width, label='Neural Network')\n",
    "\n",
    "# Fix the x-axes.\n",
    "ax.set_xticks(xs + bar_width / 2)\n",
    "ax.set_xticklabels([\"Unbalanced\", \"Balanced\"])\n",
    "\n",
    "# Add legend.\n",
    "ax.legend()\n",
    "\n",
    "# Axis styling.\n",
    "ax.spines['top'].set_visible(False)\n",
    "ax.spines['right'].set_visible(False)\n",
    "ax.spines['left'].set_visible(False)\n",
    "ax.spines['bottom'].set_color('#DDDDDD')\n",
    "ax.tick_params(bottom=False, left=False)\n",
    "ax.set_axisbelow(True)\n",
    "ax.yaxis.grid(True, color='#EEEEEE')\n",
    "ax.xaxis.grid(False)\n",
    "\n",
    "# Add axis and chart labels.\n",
    "ax.set_ylabel('Accuracy', labelpad=15)\n",
    "ax.set_title('Model accuracies', pad=15)\n",
    "\n",
    "fig.tight_layout()"
   ],
   "metadata": {
    "collapsed": false
   }
  },
  {
   "cell_type": "code",
   "execution_count": 20,
   "outputs": [],
   "source": [],
   "metadata": {
    "collapsed": false
   }
  }
 ],
 "metadata": {
  "kernelspec": {
   "display_name": "Python 3",
   "language": "python",
   "name": "python3"
  },
  "language_info": {
   "codemirror_mode": {
    "name": "ipython",
    "version": 2
   },
   "file_extension": ".py",
   "mimetype": "text/x-python",
   "name": "python",
   "nbconvert_exporter": "python",
   "pygments_lexer": "ipython2",
   "version": "2.7.6"
  }
 },
 "nbformat": 4,
 "nbformat_minor": 0
}
