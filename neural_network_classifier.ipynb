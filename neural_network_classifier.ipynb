{
 "cells": [
  {
   "cell_type": "code",
   "execution_count": 1,
   "outputs": [],
   "source": [
    "import matplotlib.pyplot as plt\n",
    "import numpy as np\n",
    "import pandas as pd\n",
    "from keras import Input\n",
    "from tcn import TCN\n",
    "\n",
    "import preprocessing\n",
    "import seaborn as sns\n",
    "\n",
    "from sklearn.metrics import accuracy_score, mean_squared_error\n",
    "from sklearn.model_selection import train_test_split\n",
    "\n",
    "from keras.models import Sequential, Model\n",
    "from keras.layers.core import Dense, Dropout\n",
    "from keras.layers import Flatten, SpatialDropout1D, GlobalAveragePooling1D, GlobalMaxPooling1D, concatenate\n",
    "from keras.layers.embeddings import Embedding"
   ],
   "metadata": {
    "collapsed": false
   }
  },
  {
   "cell_type": "code",
   "execution_count": 2,
   "outputs": [
    {
     "data": {
      "text/plain": "     Unnamed: 0  score                                             review\n0        591851    4.0  A short, but interesting book that reads fast....\n1         74509    1.0  Absolutely ridiculous. Should be listed under ...\n2        675572    5.0  The Deluge, the sacond of Henryk Sienkiewicz's...\n3        465431    4.0  This story should be included in any library o...\n4        505588    4.0  I have read \"Of Mice and Men\" by John Steinbec...\n..          ...    ...                                                ...\n995       62874    1.0  I always finish the books I read, because I am...\n996      452993    3.0  I read this book last year and thought it was ...\n997      696374    5.0  This book is a must have if you were a fan of ...\n998      322779    3.0  I have just put down Rita Ciresi's Pink Slip, ...\n999      132687    1.0  I tolerated the first book because I needed to...\n\n[1000 rows x 3 columns]",
      "text/html": "<div>\n<style scoped>\n    .dataframe tbody tr th:only-of-type {\n        vertical-align: middle;\n    }\n\n    .dataframe tbody tr th {\n        vertical-align: top;\n    }\n\n    .dataframe thead th {\n        text-align: right;\n    }\n</style>\n<table border=\"1\" class=\"dataframe\">\n  <thead>\n    <tr style=\"text-align: right;\">\n      <th></th>\n      <th>Unnamed: 0</th>\n      <th>score</th>\n      <th>review</th>\n    </tr>\n  </thead>\n  <tbody>\n    <tr>\n      <th>0</th>\n      <td>591851</td>\n      <td>4.0</td>\n      <td>A short, but interesting book that reads fast....</td>\n    </tr>\n    <tr>\n      <th>1</th>\n      <td>74509</td>\n      <td>1.0</td>\n      <td>Absolutely ridiculous. Should be listed under ...</td>\n    </tr>\n    <tr>\n      <th>2</th>\n      <td>675572</td>\n      <td>5.0</td>\n      <td>The Deluge, the sacond of Henryk Sienkiewicz's...</td>\n    </tr>\n    <tr>\n      <th>3</th>\n      <td>465431</td>\n      <td>4.0</td>\n      <td>This story should be included in any library o...</td>\n    </tr>\n    <tr>\n      <th>4</th>\n      <td>505588</td>\n      <td>4.0</td>\n      <td>I have read \"Of Mice and Men\" by John Steinbec...</td>\n    </tr>\n    <tr>\n      <th>...</th>\n      <td>...</td>\n      <td>...</td>\n      <td>...</td>\n    </tr>\n    <tr>\n      <th>995</th>\n      <td>62874</td>\n      <td>1.0</td>\n      <td>I always finish the books I read, because I am...</td>\n    </tr>\n    <tr>\n      <th>996</th>\n      <td>452993</td>\n      <td>3.0</td>\n      <td>I read this book last year and thought it was ...</td>\n    </tr>\n    <tr>\n      <th>997</th>\n      <td>696374</td>\n      <td>5.0</td>\n      <td>This book is a must have if you were a fan of ...</td>\n    </tr>\n    <tr>\n      <th>998</th>\n      <td>322779</td>\n      <td>3.0</td>\n      <td>I have just put down Rita Ciresi's Pink Slip, ...</td>\n    </tr>\n    <tr>\n      <th>999</th>\n      <td>132687</td>\n      <td>1.0</td>\n      <td>I tolerated the first book because I needed to...</td>\n    </tr>\n  </tbody>\n</table>\n<p>1000 rows × 3 columns</p>\n</div>"
     },
     "execution_count": 2,
     "metadata": {},
     "output_type": "execute_result"
    }
   ],
   "source": [
    "books_data = preprocessing.load_books_rating_data(1000)\n",
    "books_data"
   ],
   "metadata": {
    "collapsed": false
   }
  },
  {
   "cell_type": "code",
   "execution_count": 3,
   "outputs": [
    {
     "data": {
      "text/plain": "<AxesSubplot: xlabel='score', ylabel='count'>"
     },
     "execution_count": 3,
     "metadata": {},
     "output_type": "execute_result"
    },
    {
     "data": {
      "text/plain": "<Figure size 432x288 with 1 Axes>",
      "image/png": "[encoded data removed]"
     },
     "metadata": {
      "needs_background": "light"
     },
     "output_type": "display_data"
    }
   ],
   "source": [
    "sns.countplot(x=\"score\", data=books_data)"
   ],
   "metadata": {
    "collapsed": false
   }
  },
  {
   "cell_type": "code",
   "execution_count": 25,
   "outputs": [],
   "source": [
    "X_balanced, y_balanced = preprocessing.under_sample(np.array(books_data.text).reshape(-1, 1), books_data.score)\n",
    "X_balanced = [sent[0] for sent in X_balanced]"
   ],
   "metadata": {
    "collapsed": false
   }
  },
  {
   "cell_type": "code",
   "execution_count": 26,
   "outputs": [
    {
     "data": {
      "text/plain": "<AxesSubplot: xlabel='score', ylabel='count'>"
     },
     "execution_count": 26,
     "metadata": {},
     "output_type": "execute_result"
    },
    {
     "data": {
      "text/plain": "<Figure size 432x288 with 1 Axes>",
      "image/png": "[encoded data removed]"
     },
     "metadata": {
      "needs_background": "light"
     },
     "output_type": "display_data"
    }
   ],
   "source": [
    "sns.countplot(x=\"score\", data=pd.DataFrame(y_balanced))"
   ],
   "metadata": {
    "collapsed": false
   }
  },
  {
   "cell_type": "code",
   "execution_count": 4,
   "outputs": [],
   "source": [
    "X_tokenized = preprocessing.tokenize(books_data.review)"
   ],
   "metadata": {
    "collapsed": false
   }
  },
  {
   "cell_type": "code",
   "execution_count": 5,
   "outputs": [],
   "source": [
    "vocab = set([word for sent in X_tokenized for word in sent])\n",
    "word_index = {}\n",
    "index = 1\n",
    "for word in vocab:\n",
    "    word_index[word] = index\n",
    "    index += 1"
   ],
   "metadata": {
    "collapsed": false
   }
  },
  {
   "cell_type": "code",
   "execution_count": 6,
   "outputs": [],
   "source": [
    "X_indexed = [[word_index[word] for word in sent] for sent in X_tokenized]"
   ],
   "metadata": {
    "collapsed": false
   }
  },
  {
   "cell_type": "code",
   "execution_count": 7,
   "outputs": [],
   "source": [
    "X_padded = preprocessing.nn_pad(X_indexed, None)"
   ],
   "metadata": {
    "collapsed": false
   }
  },
  {
   "cell_type": "code",
   "execution_count": 8,
   "outputs": [],
   "source": [
    "y_one_hot = preprocessing.one_hot_encode(books_data.score)"
   ],
   "metadata": {
    "collapsed": false
   }
  },
  {
   "cell_type": "code",
   "execution_count": 9,
   "outputs": [],
   "source": [
    "X_train, X_test, y_train_one_hot, y_test_one_hot = train_test_split(X_padded, y_one_hot, test_size=0.20,\n",
    "                                                                    random_state=42)"
   ],
   "metadata": {
    "collapsed": false
   }
  },
  {
   "cell_type": "code",
   "execution_count": 10,
   "outputs": [],
   "source": [
    "embeddings_matrix = preprocessing.create_embeddings_matrix(word_index)\n",
    "input_length = len(X_padded[0])"
   ],
   "metadata": {
    "collapsed": false
   }
  },
  {
   "cell_type": "code",
   "execution_count": 12,
   "outputs": [],
   "source": [
    "def tcn_model(input_length, emb_matrix):\n",
    "    inp = Input(shape=(input_length,))\n",
    "    x = Embedding(input_dim=embeddings_matrix.shape[0],\n",
    "                  output_dim=embeddings_matrix.shape[1],\n",
    "                  input_length=input_length,\n",
    "                  # Assign the embedding weight with word2vec embedding marix\n",
    "                  weights=[emb_matrix],\n",
    "                  # Set the weight to be not trainable (static)\n",
    "                  trainable=False)(inp)\n",
    "\n",
    "    x = SpatialDropout1D(0.1)(x)\n",
    "\n",
    "    x = TCN(128, dilations=[1, 2, 4], return_sequences=True, activation='relu', name='tcn1')(x)\n",
    "    x = TCN(64, dilations=[1, 2, 4], return_sequences=True, activation='relu', name='tcn2')(x)\n",
    "\n",
    "    avg_pool = GlobalAveragePooling1D()(x)\n",
    "    max_pool = GlobalMaxPooling1D()(x)\n",
    "\n",
    "    conc = concatenate([avg_pool, max_pool])\n",
    "    conc = Dense(16, activation=\"relu\")(conc)\n",
    "    conc = Dropout(0.1)(conc)\n",
    "    outp = Dense(5, activation=\"softmax\")(conc)\n",
    "\n",
    "    model = Model(inputs=inp, outputs=outp)\n",
    "    model.compile(loss='categorical_crossentropy', optimizer='adam', metrics=['accuracy'])\n",
    "\n",
    "    return model"
   ],
   "metadata": {
    "collapsed": false
   }
  },
  {
   "cell_type": "code",
   "execution_count": 13,
   "outputs": [
    {
     "name": "stdout",
     "output_type": "stream",
     "text": [
      "Model: \"model\"\n",
      "__________________________________________________________________________________________________\n",
      " Layer (type)                   Output Shape         Param #     Connected to                     \n",
      "==================================================================================================\n",
      " input_1 (InputLayer)           [(None, 724)]        0           []                               \n",
      "                                                                                                  \n",
      " embedding (Embedding)          (None, 724, 300)     4985400     ['input_1[0][0]']                \n",
      "                                                                                                  \n",
      " spatial_dropout1d (SpatialDrop  (None, 724, 300)    0           ['embedding[0][0]']              \n",
      " out1D)                                                                                           \n",
      "                                                                                                  \n",
      " tcn1 (TCN)                     (None, 724, 128)     400256      ['spatial_dropout1d[0][0]']      \n",
      "                                                                                                  \n",
      " tcn2 (TCN)                     (None, 724, 64)      94656       ['tcn1[0][0]']                   \n",
      "                                                                                                  \n",
      " global_average_pooling1d (Glob  (None, 64)          0           ['tcn2[0][0]']                   \n",
      " alAveragePooling1D)                                                                              \n",
      "                                                                                                  \n",
      " global_max_pooling1d (GlobalMa  (None, 64)          0           ['tcn2[0][0]']                   \n",
      " xPooling1D)                                                                                      \n",
      "                                                                                                  \n",
      " concatenate (Concatenate)      (None, 128)          0           ['global_average_pooling1d[0][0]'\n",
      "                                                                 , 'global_max_pooling1d[0][0]']  \n",
      "                                                                                                  \n",
      " dense (Dense)                  (None, 16)           2064        ['concatenate[0][0]']            \n",
      "                                                                                                  \n",
      " dropout (Dropout)              (None, 16)           0           ['dense[0][0]']                  \n",
      "                                                                                                  \n",
      " dense_1 (Dense)                (None, 5)            85          ['dropout[0][0]']                \n",
      "                                                                                                  \n",
      "==================================================================================================\n",
      "Total params: 5,482,461\n",
      "Trainable params: 497,061\n",
      "Non-trainable params: 4,985,400\n",
      "__________________________________________________________________________________________________\n",
      "None\n"
     ]
    }
   ],
   "source": [
    "deep_model = tcn_model(input_length, embeddings_matrix)\n",
    "print(deep_model.summary())"
   ],
   "metadata": {
    "collapsed": false
   }
  },
  {
   "cell_type": "code",
   "execution_count": 14,
   "outputs": [
    {
     "name": "stdout",
     "output_type": "stream",
     "text": [
      "Epoch 1/8\n",
      "1/1 [==============================] - 63s 63s/step - loss: 6.6220 - accuracy: 0.1984 - val_loss: 2.2815 - val_accuracy: 0.2062\n",
      "Epoch 2/8\n",
      "1/1 [==============================] - 46s 46s/step - loss: 2.4991 - accuracy: 0.1875 - val_loss: 1.9082 - val_accuracy: 0.2313\n",
      "Epoch 3/8\n",
      "1/1 [==============================] - 36s 36s/step - loss: 2.0995 - accuracy: 0.1922 - val_loss: 1.6648 - val_accuracy: 0.2688\n",
      "Epoch 4/8\n",
      "1/1 [==============================] - 39s 39s/step - loss: 1.7478 - accuracy: 0.1922 - val_loss: 1.6552 - val_accuracy: 0.2062\n",
      "Epoch 5/8\n",
      "1/1 [==============================] - 48s 48s/step - loss: 1.6624 - accuracy: 0.1953 - val_loss: 1.6239 - val_accuracy: 0.2250\n",
      "Epoch 6/8\n",
      "1/1 [==============================] - 35s 35s/step - loss: 1.6141 - accuracy: 0.2422 - val_loss: 1.6073 - val_accuracy: 0.1875\n",
      "Epoch 7/8\n",
      "1/1 [==============================] - 32s 32s/step - loss: 1.6141 - accuracy: 0.2016 - val_loss: 1.6090 - val_accuracy: 0.2125\n",
      "Epoch 8/8\n",
      "1/1 [==============================] - 36s 36s/step - loss: 1.6108 - accuracy: 0.2047 - val_loss: 1.6093 - val_accuracy: 0.2062\n"
     ]
    }
   ],
   "source": [
    "BATCH_SIZE = 1024\n",
    "EPOCHS = 8\n",
    "\n",
    "history = deep_model.fit(X_train, y_train_one_hot, batch_size=BATCH_SIZE, epochs=EPOCHS, verbose=1, validation_split=0.2)"
   ],
   "metadata": {
    "collapsed": false
   }
  },
  {
   "cell_type": "code",
   "execution_count": 15,
   "outputs": [
    {
     "name": "stdout",
     "output_type": "stream",
     "text": [
      "     MSE: 6.865\n",
      "Accuracy: 0.185\n"
     ]
    }
   ],
   "source": [
    "predictions_one_hot = deep_model.predict(X_test)\n",
    "predictions = [list(one_hot).index(max(one_hot)) + 1 for one_hot in predictions_one_hot]\n",
    "y_test = [list(one_hot).index(max(one_hot)) + 1 for one_hot in y_test_one_hot]\n",
    "print(\"     MSE:\", mean_squared_error(y_test, predictions))\n",
    "print(\"Accuracy:\", accuracy_score(y_test, predictions))"
   ],
   "metadata": {
    "collapsed": false
   }
  },
  {
   "cell_type": "code",
   "execution_count": 37,
   "outputs": [],
   "source": [
    "def get_nn_classifier(embeddings_matrix, input_length):\n",
    "    model = Sequential()\n",
    "\n",
    "    embedding_layer = Embedding(\n",
    "        embeddings_matrix.shape[0],\n",
    "        embeddings_matrix.shape[1],\n",
    "        weights=[embeddings_matrix],\n",
    "        input_length=input_length,\n",
    "        trainable=False\n",
    "    )\n",
    "    model.add(embedding_layer)\n",
    "\n",
    "    model.add(Flatten())\n",
    "    model.add(Dropout(0.2))\n",
    "    model.add(Dense(32, activation='relu'))\n",
    "    model.add(Dropout(0.2))\n",
    "    model.add(Dense(32, activation='relu'))\n",
    "    model.add(Dense(5, activation='softmax'))\n",
    "\n",
    "    model.compile(optimizer='adam', loss='categorical_crossentropy', metrics=['accuracy'])\n",
    "\n",
    "    return model"
   ],
   "metadata": {
    "collapsed": false
   }
  },
  {
   "cell_type": "code",
   "execution_count": 38,
   "outputs": [
    {
     "name": "stdout",
     "output_type": "stream",
     "text": [
      "Model: \"sequential_2\"\n",
      "_________________________________________________________________\n",
      " Layer (type)                Output Shape              Param #   \n",
      "=================================================================\n",
      " embedding_2 (Embedding)     (None, 2117, 300)         29217300  \n",
      "                                                                 \n",
      " flatten_2 (Flatten)         (None, 635100)            0         \n",
      "                                                                 \n",
      " dropout (Dropout)           (None, 635100)            0         \n",
      "                                                                 \n",
      " dense_6 (Dense)             (None, 32)                20323232  \n",
      "                                                                 \n",
      " dropout_1 (Dropout)         (None, 32)                0         \n",
      "                                                                 \n",
      " dense_7 (Dense)             (None, 32)                1056      \n",
      "                                                                 \n",
      " dense_8 (Dense)             (None, 5)                 165       \n",
      "                                                                 \n",
      "=================================================================\n",
      "Total params: 49,541,753\n",
      "Trainable params: 20,324,453\n",
      "Non-trainable params: 29,217,300\n",
      "_________________________________________________________________\n",
      "None\n"
     ]
    }
   ],
   "source": [
    "model = get_nn_classifier(embeddings_matrix, input_length)\n",
    "print(model.summary())"
   ],
   "metadata": {
    "collapsed": false
   }
  },
  {
   "cell_type": "code",
   "execution_count": null,
   "outputs": [
    {
     "name": "stdout",
     "output_type": "stream",
     "text": [
      "Epoch 1/8\n",
      "13/13 [==============================] - 314s 22s/step - loss: 1.5878 - accuracy: 0.2621 - val_loss: 1.5333 - val_accuracy: 0.3206\n",
      "Epoch 2/8\n",
      "13/13 [==============================] - 224s 17s/step - loss: 1.3910 - accuracy: 0.4032 - val_loss: 1.4888 - val_accuracy: 0.3494\n",
      "Epoch 3/8\n",
      " 9/13 [===================>..........] - ETA: 1:31:08 - loss: 1.2091 - accuracy: 0.5052"
     ]
    }
   ],
   "source": [
    "BATCH_SIZE = 1024\n",
    "EPOCHS = 8\n",
    "\n",
    "history = model.fit(X_train, y_train_one_hot, batch_size=BATCH_SIZE, epochs=EPOCHS, verbose=1, validation_split=0.2)"
   ],
   "metadata": {
    "collapsed": false,
    "pycharm": {
     "is_executing": true
    }
   }
  },
  {
   "cell_type": "code",
   "execution_count": 18,
   "outputs": [
    {
     "name": "stdout",
     "output_type": "stream",
     "text": [
      "     MSE: 2.32525\n",
      "Accuracy: 0.3505\n"
     ]
    }
   ],
   "source": [
    "predictions_one_hot = model.predict(X_test)\n",
    "predictions = [list(one_hot).index(max(one_hot)) + 1 for one_hot in predictions_one_hot]\n",
    "y_test = [list(one_hot).index(max(one_hot)) + 1 for one_hot in y_test_one_hot]\n",
    "print(\"     MSE:\", mean_squared_error(y_test, predictions))\n",
    "print(\"Accuracy:\", accuracy_score(y_test, predictions))"
   ],
   "metadata": {
    "collapsed": false
   }
  },
  {
   "cell_type": "code",
   "execution_count": 21,
   "outputs": [],
   "source": [
    "X_train, X_test, y_train, y_test = train_test_split(X_padded, books_data.score, test_size=0.20, random_state=42)"
   ],
   "metadata": {
    "collapsed": false
   }
  },
  {
   "cell_type": "code",
   "execution_count": 20,
   "outputs": [
    {
     "name": "stdout",
     "output_type": "stream",
     "text": [
      "Model: \"sequential_1\"\n",
      "_________________________________________________________________\n",
      " Layer (type)                Output Shape              Param #   \n",
      "=================================================================\n",
      " embedding_1 (Embedding)     (None, 2117, 300)         29217300  \n",
      "                                                                 \n",
      " flatten_1 (Flatten)         (None, 635100)            0         \n",
      "                                                                 \n",
      " dense_3 (Dense)             (None, 32)                20323232  \n",
      "                                                                 \n",
      " dense_4 (Dense)             (None, 32)                1056      \n",
      "                                                                 \n",
      " dense_5 (Dense)             (None, 1)                 33        \n",
      "                                                                 \n",
      "=================================================================\n",
      "Total params: 49,541,621\n",
      "Trainable params: 20,324,321\n",
      "Non-trainable params: 29,217,300\n",
      "_________________________________________________________________\n",
      "None\n"
     ]
    }
   ],
   "source": [
    "model = preprocessing.get_nn_linear(embeddings_matrix, input_length)\n",
    "print(model.summary())"
   ],
   "metadata": {
    "collapsed": false
   }
  },
  {
   "cell_type": "code",
   "execution_count": 22,
   "outputs": [
    {
     "name": "stdout",
     "output_type": "stream",
     "text": [
      "Epoch 1/8\n",
      "13/13 [==============================] - 46s 3s/step - loss: 3.5329 - val_loss: 1.9403\n",
      "Epoch 2/8\n",
      "13/13 [==============================] - 32s 2s/step - loss: 2.2718 - val_loss: 1.7023\n",
      "Epoch 3/8\n",
      "13/13 [==============================] - 31s 2s/step - loss: 2.0723 - val_loss: 1.6369\n",
      "Epoch 4/8\n",
      "13/13 [==============================] - 31s 2s/step - loss: 1.0471 - val_loss: 1.6263\n",
      "Epoch 5/8\n",
      "13/13 [==============================] - 32s 2s/step - loss: 0.7494 - val_loss: 1.6273\n",
      "Epoch 6/8\n",
      "13/13 [==============================] - 32s 2s/step - loss: 0.5884 - val_loss: 1.6530\n",
      "Epoch 7/8\n",
      "13/13 [==============================] - 32s 2s/step - loss: 0.4669 - val_loss: 1.7128\n",
      "Epoch 8/8\n",
      "13/13 [==============================] - 34s 3s/step - loss: 0.3795 - val_loss: 1.7406\n"
     ]
    }
   ],
   "source": [
    "BATCH_SIZE = 1024\n",
    "EPOCHS = 8\n",
    "\n",
    "history = model.fit(X_train, y_train, batch_size=BATCH_SIZE, epochs=EPOCHS, verbose=1, validation_split=0.2)"
   ],
   "metadata": {
    "collapsed": false
   }
  },
  {
   "cell_type": "code",
   "execution_count": 34,
   "outputs": [
    {
     "name": "stdout",
     "output_type": "stream",
     "text": [
      "     MSE: 1.85025\n",
      "     MSE: 1.8034910509345174\n",
      "Accuracy: 0.29225\n"
     ]
    }
   ],
   "source": [
    "predictions_decimal = model.predict(X_test)\n",
    "predictions = [max(min(round(prediction[0]), 5), 1) for prediction in predictions_decimal]\n",
    "print(\"     MSE:\", mean_squared_error(y_test, predictions))\n",
    "print(\"     MSE:\", mean_squared_error(y_test, predictions_decimal))\n",
    "print(\"Accuracy:\", accuracy_score(y_test, predictions))"
   ],
   "metadata": {
    "collapsed": false
   }
  },
  {
   "cell_type": "code",
   "execution_count": null,
   "outputs": [],
   "source": [
    "plt.plot(history.history['accuracy'])\n",
    "plt.plot(history.history['val_accuracy'])\n",
    "\n",
    "plt.title('model accuracy')\n",
    "plt.ylabel('accuracy')\n",
    "plt.xlabel('epoch')\n",
    "plt.legend(['train', 'test'], loc='upper left')\n",
    "plt.show()\n",
    "\n",
    "plt.plot(history.history['loss'])\n",
    "plt.plot(history.history['val_loss'])\n",
    "\n",
    "plt.title('model loss')\n",
    "plt.ylabel('loss')\n",
    "plt.xlabel('epoch')\n",
    "plt.legend(['train', 'test'], loc='upper left')\n",
    "plt.show()"
   ],
   "metadata": {
    "collapsed": false,
    "pycharm": {
     "is_executing": true
    }
   }
  },
  {
   "cell_type": "code",
   "execution_count": null,
   "outputs": [],
   "source": [
    "# Create a grouped bar chart, with job as the x-axis\n",
    "# and gender as the variable we're grouping on so there\n",
    "# are two bars per job.\n",
    "fig, ax = plt.subplots()\n",
    "\n",
    "# Our x-axis. We basically just want a list\n",
    "# of numbers from zero with a value for each\n",
    "# of our jobs.\n",
    "xs = np.arange(2)\n",
    "\n",
    "# Define bar width. We need this to offset the second bar.\n",
    "bar_width = 0.4\n",
    "\n",
    "b1 = ax.bar(xs, [0.55, 0.39], width=bar_width, label='Naive Bayes')\n",
    "# Same thing, but offset the x.\n",
    "b2 = ax.bar(xs + bar_width, [0.56, 0.33], width=bar_width, label='Neural Network')\n",
    "\n",
    "# Fix the x-axes.\n",
    "ax.set_xticks(xs + bar_width / 2)\n",
    "ax.set_xticklabels([\"Unbalanced\", \"Balanced\"])\n",
    "\n",
    "# Add legend.\n",
    "ax.legend()\n",
    "\n",
    "# Axis styling.\n",
    "ax.spines['top'].set_visible(False)\n",
    "ax.spines['right'].set_visible(False)\n",
    "ax.spines['left'].set_visible(False)\n",
    "ax.spines['bottom'].set_color('#DDDDDD')\n",
    "ax.tick_params(bottom=False, left=False)\n",
    "ax.set_axisbelow(True)\n",
    "ax.yaxis.grid(True, color='#EEEEEE')\n",
    "ax.xaxis.grid(False)\n",
    "\n",
    "# Add axis and chart labels.\n",
    "ax.set_ylabel('Accuracy', labelpad=15)\n",
    "ax.set_title('Model accuracies', pad=15)\n",
    "\n",
    "fig.tight_layout()"
   ],
   "metadata": {
    "collapsed": false,
    "pycharm": {
     "is_executing": true
    }
   }
  },
  {
   "cell_type": "code",
   "execution_count": null,
   "outputs": [],
   "source": [],
   "metadata": {
    "collapsed": false,
    "pycharm": {
     "is_executing": true
    }
   }
  }
 ],
 "metadata": {
  "kernelspec": {
   "display_name": "Python 3",
   "language": "python",
   "name": "python3"
  },
  "language_info": {
   "codemirror_mode": {
    "name": "ipython",
    "version": 2
   },
   "file_extension": ".py",
   "mimetype": "text/x-python",
   "name": "python",
   "nbconvert_exporter": "python",
   "pygments_lexer": "ipython2",
   "version": "2.7.6"
  }
 },
 "nbformat": 4,
 "nbformat_minor": 0
}
