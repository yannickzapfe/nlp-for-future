{
 "cells": [
  {
   "cell_type": "code",
   "execution_count": 1,
   "metadata": {
    "collapsed": true
   },
   "outputs": [],
   "source": [
    "import preprocessing\n",
    "\n",
    "from keras.models import Sequential\n",
    "from keras.layers.core import Dense\n",
    "from keras.layers import Flatten\n",
    "from keras.layers.embeddings import Embedding\n",
    "from sklearn.metrics import accuracy_score, mean_squared_error\n",
    "from sklearn.model_selection import train_test_split"
   ]
  },
  {
   "cell_type": "code",
   "execution_count": 2,
   "outputs": [],
   "source": [
    "X_balanced, y_balanced, embeddings_matrix = preprocessing.nn_preprocess(20000)"
   ],
   "metadata": {
    "collapsed": false
   }
  },
  {
   "cell_type": "code",
   "execution_count": 3,
   "outputs": [],
   "source": [
    "X_train, X_test, y_train, y_test = train_test_split(X_balanced, y_balanced, test_size=0.20, random_state=42)"
   ],
   "metadata": {
    "collapsed": false
   }
  },
  {
   "cell_type": "code",
   "execution_count": 5,
   "outputs": [
    {
     "name": "stdout",
     "output_type": "stream",
     "text": [
      "Model: \"sequential_1\"\n",
      "_________________________________________________________________\n",
      " Layer (type)                Output Shape              Param #   \n",
      "=================================================================\n",
      " embedding_1 (Embedding)     (None, 65, 300)           28740600  \n",
      "                                                                 \n",
      " flatten_1 (Flatten)         (None, 19500)             0         \n",
      "                                                                 \n",
      " dense_3 (Dense)             (None, 32)                624032    \n",
      "                                                                 \n",
      " dense_4 (Dense)             (None, 32)                1056      \n",
      "                                                                 \n",
      " dense_5 (Dense)             (None, 1)                 33        \n",
      "                                                                 \n",
      "=================================================================\n",
      "Total params: 29,365,721\n",
      "Trainable params: 625,121\n",
      "Non-trainable params: 28,740,600\n",
      "_________________________________________________________________\n",
      "None\n"
     ]
    }
   ],
   "source": [
    "model = Sequential()\n",
    "\n",
    "embedding_layer = Embedding(\n",
    "    embeddings_matrix.shape[0],\n",
    "    embeddings_matrix.shape[1],\n",
    "    weights=[embeddings_matrix],\n",
    "    input_length=len(X_balanced[0]),\n",
    "    trainable=False\n",
    ")\n",
    "model.add(embedding_layer)\n",
    "\n",
    "model.add(Flatten())\n",
    "model.add(Dense(32, activation='relu'))\n",
    "model.add(Dense(32, activation='relu'))\n",
    "model.add(Dense(1, activation='relu'))\n",
    "\n",
    "model.compile(optimizer='adam', loss='mean_squared_error')\n",
    "\n",
    "print(model.summary())"
   ],
   "metadata": {
    "collapsed": false
   }
  },
  {
   "cell_type": "code",
   "execution_count": 5,
   "outputs": [
    {
     "name": "stdout",
     "output_type": "stream",
     "text": [
      "Epoch 1/8\n",
      "4/4 [==============================] - 10s 2s/step - loss: 15.8736 - val_loss: 4.5699\n",
      "Epoch 2/8\n",
      "4/4 [==============================] - 5s 1s/step - loss: 4.9861 - val_loss: 2.8812\n",
      "Epoch 3/8\n",
      "4/4 [==============================] - 5s 1s/step - loss: 2.5546 - val_loss: 2.5009\n",
      "Epoch 4/8\n",
      "4/4 [==============================] - 5s 1s/step - loss: 2.2764 - val_loss: 2.3568\n",
      "Epoch 5/8\n",
      "4/4 [==============================] - 5s 1s/step - loss: 1.8875 - val_loss: 2.1763\n",
      "Epoch 6/8\n",
      "4/4 [==============================] - 10s 3s/step - loss: 1.6297 - val_loss: 2.1389\n",
      "Epoch 7/8\n",
      "4/4 [==============================] - 10s 2s/step - loss: 1.4545 - val_loss: 2.0062\n",
      "Epoch 8/8\n",
      "4/4 [==============================] - 7s 2s/step - loss: 1.2602 - val_loss: 1.9403\n"
     ]
    }
   ],
   "source": [
    "BATCH_SIZE = 1024\n",
    "EPOCHS = 8\n",
    "\n",
    "history = model.fit(X_train, y_train, batch_size=BATCH_SIZE, epochs=EPOCHS, verbose=1, validation_split=0.2)"
   ],
   "metadata": {
    "collapsed": false
   }
  },
  {
   "cell_type": "code",
   "execution_count": 6,
   "outputs": [
    {
     "name": "stdout",
     "output_type": "stream",
     "text": [
      "MSE 1.9492503389219396\n"
     ]
    }
   ],
   "source": [
    "predictions = model.predict(X_test)\n",
    "print(\"     MSE:\", mean_squared_error(y_test, predictions))\n",
    "print(\"Accuracy:\", accuracy_score(y_test, predictions))"
   ],
   "metadata": {
    "collapsed": false
   }
  },
  {
   "cell_type": "code",
   "execution_count": null,
   "outputs": [],
   "source": [],
   "metadata": {
    "collapsed": false
   }
  }
 ],
 "metadata": {
  "kernelspec": {
   "display_name": "Python 3",
   "language": "python",
   "name": "python3"
  },
  "language_info": {
   "codemirror_mode": {
    "name": "ipython",
    "version": 2
   },
   "file_extension": ".py",
   "mimetype": "text/x-python",
   "name": "python",
   "nbconvert_exporter": "python",
   "pygments_lexer": "ipython2",
   "version": "2.7.6"
  }
 },
 "nbformat": 4,
 "nbformat_minor": 0
}
